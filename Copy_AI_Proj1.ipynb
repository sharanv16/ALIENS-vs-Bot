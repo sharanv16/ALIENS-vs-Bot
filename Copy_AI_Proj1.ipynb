{
  "nbformat": 4,
  "nbformat_minor": 0,
  "metadata": {
    "colab": {
      "provenance": [],
      "collapsed_sections": [
        "AxGdIejKEGJn",
        "v7fvWa_oEQds"
      ],
      "toc_visible": true,
      "authorship_tag": "ABX9TyPl4BFTCXBLY8ojPeOSNcHK",
      "include_colab_link": true
    },
    "kernelspec": {
      "name": "python3",
      "display_name": "Python 3"
    },
    "language_info": {
      "name": "python"
    }
  },
  "cells": [
    {
      "cell_type": "markdown",
      "metadata": {
        "id": "view-in-github",
        "colab_type": "text"
      },
      "source": [
        "<a href=\"https://colab.research.google.com/github/sharanv16/ALIENS-vs-Bot/blob/main/Copy_AI_Proj1.ipynb\" target=\"_parent\"><img src=\"https://colab.research.google.com/assets/colab-badge.svg\" alt=\"Open In Colab\"/></a>"
      ]
    },
    {
      "cell_type": "markdown",
      "source": [
        "Forming the Grid"
      ],
      "metadata": {
        "id": "VkTnVLn1Fl5U"
      }
    },
    {
      "cell_type": "markdown",
      "source": [
        "create a closed square grid\n",
        "\n",
        "*   0 implies closed cell\n",
        "*   -1 implies open cell\n",
        "*   1 implies alien\n",
        "*   10 implies captain\n",
        "*   2 implies bot\n"
      ],
      "metadata": {
        "id": "Ksa_8ctzH7vG"
      }
    },
    {
      "cell_type": "code",
      "source": [
        "import random\n",
        "import numpy as np"
      ],
      "metadata": {
        "id": "8nzWA3dVFrTR"
      },
      "execution_count": 1,
      "outputs": []
    },
    {
      "cell_type": "markdown",
      "source": [
        "# MAKING THE GRID"
      ],
      "metadata": {
        "id": "AxGdIejKEGJn"
      }
    },
    {
      "cell_type": "markdown",
      "source": [],
      "metadata": {
        "id": "13Nva5Tm8MuB"
      }
    },
    {
      "cell_type": "code",
      "source": [
        "#Parameters grid size,number of aliens\n",
        "class Grid:\n",
        "  def __init__(self,n,no_of_aliens):\n",
        "    self.no_of_aliens =no_of_aliens\n",
        "    self.n = n\n",
        "    self.grid = np.full((self.n,self.n),-1)\n",
        "    self.rows, self.cols = self.grid.shape\n",
        "    # assign a random start point\n",
        "    self.x_start =  random.randint(0,self.n-1)\n",
        "    self.y_start =  random.randint(0,self.n-1)\n",
        "    #print(f\" start = {self.x_start} {self.y_start}\")\n",
        "    self.grid[self.x_start,self.y_start] = 0\n",
        "    #start building paths from the start point\n",
        "\n",
        "  def find_closed_cells_with_one_open_neighbor(self):\n",
        "    self.results = []\n",
        "    for i in range(self.rows):\n",
        "      for j in range(self.cols):\n",
        "        if self.grid[i, j] == -1:  # Check for closed cells only\n",
        "          self.adjacent_cells = [(i - 1, j), (i, j - 1), (i + 1, j), (i, j + 1)]\n",
        "          self.adjacent_cells = [(x, y) for x, y in self.adjacent_cells if 0 <= x < self.rows and 0 <= y < self.cols]\n",
        "          self.num_zero_neighbors = sum(self.grid[x, y] == 0 for x, y in self.adjacent_cells)\n",
        "          if self.num_zero_neighbors == 1:\n",
        "            self.results.append((i, j))\n",
        "    return self.results\n",
        "\n",
        "  def create_grid(self):\n",
        "    self.avl_cells = self.find_closed_cells_with_one_open_neighbor()\n",
        "    #print(self.avl_cells)\n",
        "    while self.avl_cells:\n",
        "      p = random.choice(self.avl_cells)\n",
        "      self.grid[p] = 0\n",
        "      self.avl_cells = []\n",
        "      self.avl_cells = self.find_closed_cells_with_one_open_neighbor()\n",
        "\n",
        "  def find_open_cells(self):\n",
        "    self.open_cells = []\n",
        "    for i in range(self.rows):\n",
        "      for j in range(self.cols):\n",
        "        if self.grid[i,j] == 0:\n",
        "          self.open_cells.append((i,j))\n",
        "\n",
        "  def place_aliens(self):\n",
        "    k = self.no_of_aliens\n",
        "    self.find_open_cells()\n",
        "    self.alien_cells=[]\n",
        "    while k:\n",
        "      r = random.choice(self.open_cells)\n",
        "      self.grid[r] = 1\n",
        "      self.alien_cells.append(r)\n",
        "      self.open_cells.remove(r)\n",
        "      k -=1\n",
        "\n",
        "\n",
        "  def place_bot(self):\n",
        "    r =  random.choice(self.open_cells)\n",
        "    self.grid[r] = 2\n",
        "    self.start = r\n",
        "\n",
        "  def place_captain(self):\n",
        "    r = random.choice(self.open_cells)\n",
        "    self.grid[r] = 10\n",
        "    self.goal = r\n",
        "\n",
        "  def place_players(self):\n",
        "    self.place_aliens()\n",
        "    self.place_captain()\n",
        "    self.place_bot()\n",
        "\n",
        "\n",
        "  def show_grid(self):\n",
        "    print(self.grid)\n",
        "\n"
      ],
      "metadata": {
        "id": "gzeBxiTaI4Bf"
      },
      "execution_count": 22,
      "outputs": []
    },
    {
      "cell_type": "code",
      "source": [
        "g = Grid(5,3)\n",
        "g.show_grid()\n",
        "g.create_grid()\n",
        "g.place_players()\n",
        "print(\"\\n \\n\")\n",
        "g.show_grid()"
      ],
      "metadata": {
        "colab": {
          "base_uri": "https://localhost:8080/"
        },
        "id": "5jMBym4JJ7Hv",
        "outputId": "a06713d4-73c0-4231-b980-620598ab020e"
      },
      "execution_count": 23,
      "outputs": [
        {
          "output_type": "stream",
          "name": "stdout",
          "text": [
            "[[-1  0 -1 -1 -1]\n",
            " [-1 -1 -1 -1 -1]\n",
            " [-1 -1 -1 -1 -1]\n",
            " [-1 -1 -1 -1 -1]\n",
            " [-1 -1 -1 -1 -1]]\n",
            "\n",
            " \n",
            "\n",
            "[[ 0  0  0  1  0]\n",
            " [ 0 -1 -1  0 -1]\n",
            " [10  2  0 -1  0]\n",
            " [ 1 -1  1  0  0]\n",
            " [ 0  0 -1 -1  0]]\n"
          ]
        }
      ]
    },
    {
      "cell_type": "markdown",
      "source": [
        "# Bot1class dont run yet"
      ],
      "metadata": {
        "id": "v7fvWa_oEQds"
      }
    },
    {
      "cell_type": "code",
      "source": [
        "#BOT1 FINDS THE SHORTEST PATH FROM THE START POSITION TO THE CAPTAIN AND MOVES\n",
        "#BOT1 DOES NOT CARE ABOU THE ALIENS POSITION\n",
        "#Parameters =  grid,start cell,goal cell, alien cells\n",
        "class Bot1:\n",
        "  def __init__(self,grid,start,goal,alien_cells):\n",
        "    self.grid = grid\n",
        "    self.goal = goal\n",
        "    self.start = start\n",
        "    self.alien_cells = alien_cells\n",
        "\n",
        "  def find_shortest_path(self):\n",
        "    rows, cols = self.grid.shape\n",
        "    self.queue = [(self.start, [self.start])]\n",
        "    self.visited = set()\n",
        "\n",
        "    while self.queue:\n",
        "        self.cell, self.path = self.queue.pop(0)\n",
        "        self.visited.add(cell)\n",
        "\n",
        "        if cell == self.goal:\n",
        "            return self.path\n",
        "\n",
        "        for neighbor in [(self.cell[0] + 1, self.cell[1]), (self.cell[0] - 1, self.cell[1]),\n",
        "                         (self.cell[0], self.cell[1] + 1), (self.cell[0], self.cell[1] - 1)]:\n",
        "            if 0 <= neighbor[0] < rows and 0 <= neighbor[1] < cols and self.grid[neighbor] != -1 and neighbor not in self.visited:\n",
        "                self.queue.append((neighbor, self.path + [neighbor]))\n",
        "\n",
        "    return None\n",
        "\n",
        "  def bot1_rescue_path(self):\n",
        "    self.bot1_path = self.find_shortest_path()\n",
        "    return self.bot1_path\n",
        "\n",
        "  def start_rescue(self,path):\n",
        "    self.path=path\n",
        "    self.prev_cell =[self.start]\n",
        "    flag  = 0\n",
        "    self.bot_path = [self.start]\n",
        "    while flag == 0:\n",
        "      for cell in path:\n",
        "        print(\"\\n \\n \\n \\n\")\n",
        "        print(self.grid)\n",
        "        self.grid[cell] = 2\n",
        "        self.grid[self.prev_cell] = 0\n",
        "        self.prev_cell = cell\n",
        "        if cell == goal:\n",
        "          flag = 1\n",
        "          break\n",
        "        chosen_alien = random.choice(self.alien_cells)\n",
        "        ##working pending here\n",
        "    #     self.alien_possible_moves = get_adjacent_cells(grid1,chosen_alien[0],chosen_alien[1])\n",
        "    #     random_cell_choice = random.choice(alien_possible_moves)\n",
        "    #     print(f\"Alien moves from f{chosen_alien} to {random_cell_choice}\")\n",
        "    #     if grid1[random_cell_choice] == 2:\n",
        "    #       flag = 2\n",
        "    #       break\n",
        "    #     else:\n",
        "    #       grid1[random_cell_choice] = 1\n",
        "    #       grid1[chosen_alien] = 0\n",
        "    #       alien_cells.remove(chosen_alien)\n",
        "    #       alien_cells.append(random_cell_choice)\n",
        "    #       bot_path.append(cell)\n",
        "    # if flag == 1:\n",
        "    #   print(\"GOAL REACHED\")\n",
        "    # else:\n",
        "    #   print(\"GOAL FAILED\")\n",
        "    #   print(f\"Alien meet bot at {random_cell_choice}\")\n",
        "    # print(bot_path)\n",
        "    # print(f\"no of steps taken = {len(bot_path)}\")"
      ],
      "metadata": {
        "id": "6R4LDgFAKUiC"
      },
      "execution_count": 27,
      "outputs": []
    },
    {
      "cell_type": "code",
      "source": [],
      "metadata": {
        "id": "Y0pURsBQKUeo"
      },
      "execution_count": 3,
      "outputs": []
    },
    {
      "cell_type": "code",
      "source": [],
      "metadata": {
        "id": "CI-Q9VJhKUbt"
      },
      "execution_count": 3,
      "outputs": []
    },
    {
      "cell_type": "code",
      "source": [],
      "metadata": {
        "id": "eV8No-b4KUYl"
      },
      "execution_count": 3,
      "outputs": []
    },
    {
      "cell_type": "code",
      "source": [],
      "metadata": {
        "id": "x-ZyfAfBKUVW"
      },
      "execution_count": 3,
      "outputs": []
    },
    {
      "cell_type": "code",
      "source": [],
      "metadata": {
        "id": "IaMYXqBIKUSH"
      },
      "execution_count": 3,
      "outputs": []
    },
    {
      "cell_type": "code",
      "source": [
        "# everything works from here till bot 1 implementation"
      ],
      "metadata": {
        "id": "IXb96AnuKUOf"
      },
      "execution_count": 3,
      "outputs": []
    },
    {
      "cell_type": "markdown",
      "source": [
        "# CREATE A SQUARE GRID"
      ],
      "metadata": {
        "id": "oMrSbrC6H1S7"
      }
    },
    {
      "cell_type": "code",
      "source": [
        "def create_grid(n):\n",
        "  grid = np.full((n, n), -1)\n",
        "  return grid"
      ],
      "metadata": {
        "id": "IIyBoFsXGJuU"
      },
      "execution_count": 4,
      "outputs": []
    },
    {
      "cell_type": "code",
      "source": [
        "D =20\n",
        "grid =create_grid(D)\n",
        "print(grid)"
      ],
      "metadata": {
        "colab": {
          "base_uri": "https://localhost:8080/"
        },
        "id": "bo8QykjsHLcF",
        "outputId": "05de2e4f-cee6-44ca-cdba-02a0c2f01055"
      },
      "execution_count": 5,
      "outputs": [
        {
          "output_type": "stream",
          "name": "stdout",
          "text": [
            "[[-1 -1 -1 -1 -1 -1 -1 -1 -1 -1 -1 -1 -1 -1 -1 -1 -1 -1 -1 -1]\n",
            " [-1 -1 -1 -1 -1 -1 -1 -1 -1 -1 -1 -1 -1 -1 -1 -1 -1 -1 -1 -1]\n",
            " [-1 -1 -1 -1 -1 -1 -1 -1 -1 -1 -1 -1 -1 -1 -1 -1 -1 -1 -1 -1]\n",
            " [-1 -1 -1 -1 -1 -1 -1 -1 -1 -1 -1 -1 -1 -1 -1 -1 -1 -1 -1 -1]\n",
            " [-1 -1 -1 -1 -1 -1 -1 -1 -1 -1 -1 -1 -1 -1 -1 -1 -1 -1 -1 -1]\n",
            " [-1 -1 -1 -1 -1 -1 -1 -1 -1 -1 -1 -1 -1 -1 -1 -1 -1 -1 -1 -1]\n",
            " [-1 -1 -1 -1 -1 -1 -1 -1 -1 -1 -1 -1 -1 -1 -1 -1 -1 -1 -1 -1]\n",
            " [-1 -1 -1 -1 -1 -1 -1 -1 -1 -1 -1 -1 -1 -1 -1 -1 -1 -1 -1 -1]\n",
            " [-1 -1 -1 -1 -1 -1 -1 -1 -1 -1 -1 -1 -1 -1 -1 -1 -1 -1 -1 -1]\n",
            " [-1 -1 -1 -1 -1 -1 -1 -1 -1 -1 -1 -1 -1 -1 -1 -1 -1 -1 -1 -1]\n",
            " [-1 -1 -1 -1 -1 -1 -1 -1 -1 -1 -1 -1 -1 -1 -1 -1 -1 -1 -1 -1]\n",
            " [-1 -1 -1 -1 -1 -1 -1 -1 -1 -1 -1 -1 -1 -1 -1 -1 -1 -1 -1 -1]\n",
            " [-1 -1 -1 -1 -1 -1 -1 -1 -1 -1 -1 -1 -1 -1 -1 -1 -1 -1 -1 -1]\n",
            " [-1 -1 -1 -1 -1 -1 -1 -1 -1 -1 -1 -1 -1 -1 -1 -1 -1 -1 -1 -1]\n",
            " [-1 -1 -1 -1 -1 -1 -1 -1 -1 -1 -1 -1 -1 -1 -1 -1 -1 -1 -1 -1]\n",
            " [-1 -1 -1 -1 -1 -1 -1 -1 -1 -1 -1 -1 -1 -1 -1 -1 -1 -1 -1 -1]\n",
            " [-1 -1 -1 -1 -1 -1 -1 -1 -1 -1 -1 -1 -1 -1 -1 -1 -1 -1 -1 -1]\n",
            " [-1 -1 -1 -1 -1 -1 -1 -1 -1 -1 -1 -1 -1 -1 -1 -1 -1 -1 -1 -1]\n",
            " [-1 -1 -1 -1 -1 -1 -1 -1 -1 -1 -1 -1 -1 -1 -1 -1 -1 -1 -1 -1]\n",
            " [-1 -1 -1 -1 -1 -1 -1 -1 -1 -1 -1 -1 -1 -1 -1 -1 -1 -1 -1 -1]]\n"
          ]
        }
      ]
    },
    {
      "cell_type": "code",
      "source": [],
      "metadata": {
        "id": "xA8IkHY9IyUn"
      },
      "execution_count": 5,
      "outputs": []
    },
    {
      "cell_type": "markdown",
      "source": [
        "creating a path in the closed grid"
      ],
      "metadata": {
        "id": "xvjFtbb7Ie-k"
      }
    },
    {
      "cell_type": "code",
      "source": [
        "# assign a random start point\n",
        "x_start =  random.randint(0,D-1)\n",
        "y_start =  random.randint(0,D-1)\n",
        "print(f\" start = {x_start} {y_start}\")\n",
        "grid[x_start,y_start] = 0"
      ],
      "metadata": {
        "colab": {
          "base_uri": "https://localhost:8080/"
        },
        "id": "8xJnwRzcIlzP",
        "outputId": "9090867b-076c-4d8a-9429-be0fd4f1fe44"
      },
      "execution_count": 6,
      "outputs": [
        {
          "output_type": "stream",
          "name": "stdout",
          "text": [
            " start = 13 10\n"
          ]
        }
      ]
    },
    {
      "cell_type": "code",
      "source": [
        "print(grid)"
      ],
      "metadata": {
        "colab": {
          "base_uri": "https://localhost:8080/"
        },
        "id": "dQNS0morLjWP",
        "outputId": "e15d013c-5d0d-40a7-c544-13b0e403297e"
      },
      "execution_count": 7,
      "outputs": [
        {
          "output_type": "stream",
          "name": "stdout",
          "text": [
            "[[-1 -1 -1 -1 -1 -1 -1 -1 -1 -1 -1 -1 -1 -1 -1 -1 -1 -1 -1 -1]\n",
            " [-1 -1 -1 -1 -1 -1 -1 -1 -1 -1 -1 -1 -1 -1 -1 -1 -1 -1 -1 -1]\n",
            " [-1 -1 -1 -1 -1 -1 -1 -1 -1 -1 -1 -1 -1 -1 -1 -1 -1 -1 -1 -1]\n",
            " [-1 -1 -1 -1 -1 -1 -1 -1 -1 -1 -1 -1 -1 -1 -1 -1 -1 -1 -1 -1]\n",
            " [-1 -1 -1 -1 -1 -1 -1 -1 -1 -1 -1 -1 -1 -1 -1 -1 -1 -1 -1 -1]\n",
            " [-1 -1 -1 -1 -1 -1 -1 -1 -1 -1 -1 -1 -1 -1 -1 -1 -1 -1 -1 -1]\n",
            " [-1 -1 -1 -1 -1 -1 -1 -1 -1 -1 -1 -1 -1 -1 -1 -1 -1 -1 -1 -1]\n",
            " [-1 -1 -1 -1 -1 -1 -1 -1 -1 -1 -1 -1 -1 -1 -1 -1 -1 -1 -1 -1]\n",
            " [-1 -1 -1 -1 -1 -1 -1 -1 -1 -1 -1 -1 -1 -1 -1 -1 -1 -1 -1 -1]\n",
            " [-1 -1 -1 -1 -1 -1 -1 -1 -1 -1 -1 -1 -1 -1 -1 -1 -1 -1 -1 -1]\n",
            " [-1 -1 -1 -1 -1 -1 -1 -1 -1 -1 -1 -1 -1 -1 -1 -1 -1 -1 -1 -1]\n",
            " [-1 -1 -1 -1 -1 -1 -1 -1 -1 -1 -1 -1 -1 -1 -1 -1 -1 -1 -1 -1]\n",
            " [-1 -1 -1 -1 -1 -1 -1 -1 -1 -1 -1 -1 -1 -1 -1 -1 -1 -1 -1 -1]\n",
            " [-1 -1 -1 -1 -1 -1 -1 -1 -1 -1  0 -1 -1 -1 -1 -1 -1 -1 -1 -1]\n",
            " [-1 -1 -1 -1 -1 -1 -1 -1 -1 -1 -1 -1 -1 -1 -1 -1 -1 -1 -1 -1]\n",
            " [-1 -1 -1 -1 -1 -1 -1 -1 -1 -1 -1 -1 -1 -1 -1 -1 -1 -1 -1 -1]\n",
            " [-1 -1 -1 -1 -1 -1 -1 -1 -1 -1 -1 -1 -1 -1 -1 -1 -1 -1 -1 -1]\n",
            " [-1 -1 -1 -1 -1 -1 -1 -1 -1 -1 -1 -1 -1 -1 -1 -1 -1 -1 -1 -1]\n",
            " [-1 -1 -1 -1 -1 -1 -1 -1 -1 -1 -1 -1 -1 -1 -1 -1 -1 -1 -1 -1]\n",
            " [-1 -1 -1 -1 -1 -1 -1 -1 -1 -1 -1 -1 -1 -1 -1 -1 -1 -1 -1 -1]]\n"
          ]
        }
      ]
    },
    {
      "cell_type": "code",
      "source": [
        "def find_closed_cells_with_one_open_neighbor(grid):\n",
        "  \"\"\"Finds closed cells with exactly one open neighbor, ensuring boundary checks.\"\"\"\n",
        "  results = []\n",
        "  rows, cols = grid.shape\n",
        "\n",
        "  for i in range(rows):\n",
        "    for j in range(cols):\n",
        "      if grid[i, j] == -1:  # Check for closed cells only\n",
        "        adjacent_cells = [(i - 1, j), (i, j - 1), (i + 1, j), (i, j + 1)]\n",
        "        adjacent_cells = [(x, y) for x, y in adjacent_cells if 0 <= x < rows and 0 <= y < cols]\n",
        "        num_zero_neighbors = sum(grid[x, y] == 0 for x, y in adjacent_cells)\n",
        "        if num_zero_neighbors == 1:\n",
        "          results.append((i, j))\n",
        "  return results\n",
        "\n",
        "while True:\n",
        "  avl_cells = find_closed_cells_with_one_open_neighbor(grid)\n",
        "  if not avl_cells:\n",
        "    break\n",
        "  p = random.choice(avl_cells)\n",
        "  grid[p] = 0\n",
        "\n",
        "print(grid)"
      ],
      "metadata": {
        "colab": {
          "base_uri": "https://localhost:8080/"
        },
        "id": "sLOXe0ujTHcv",
        "outputId": "59a8a443-e8fa-46fc-9329-cb9da550d0dc"
      },
      "execution_count": 8,
      "outputs": [
        {
          "output_type": "stream",
          "name": "stdout",
          "text": [
            "[[ 0 -1  0 -1  0  0  0 -1  0  0  0  0 -1  0 -1 -1  0  0  0  0]\n",
            " [ 0  0  0  0 -1 -1  0 -1  0 -1  0 -1 -1  0  0  0 -1  0 -1  0]\n",
            " [ 0 -1  0 -1  0 -1  0  0  0 -1 -1  0  0 -1  0 -1  0 -1  0  0]\n",
            " [-1  0  0  0  0  0 -1 -1  0  0  0 -1  0  0  0  0  0  0  0 -1]\n",
            " [ 0 -1  0 -1  0 -1  0  0 -1  0 -1  0  0 -1  0 -1 -1 -1  0 -1]\n",
            " [ 0 -1  0  0 -1 -1 -1  0 -1  0  0  0 -1  0 -1  0  0  0 -1  0]\n",
            " [ 0  0  0 -1  0 -1  0  0  0 -1  0 -1  0  0 -1 -1  0 -1  0  0]\n",
            " [-1  0 -1  0  0 -1 -1  0 -1  0  0 -1  0 -1  0  0  0  0 -1  0]\n",
            " [ 0  0  0  0 -1  0  0  0  0 -1  0  0  0  0 -1  0 -1  0  0  0]\n",
            " [-1  0 -1 -1 -1 -1  0 -1  0 -1 -1  0 -1 -1  0  0  0 -1 -1  0]\n",
            " [ 0  0  0  0 -1  0  0  0 -1  0  0  0  0  0  0 -1 -1  0  0 -1]\n",
            " [-1  0 -1 -1  0 -1  0 -1  0 -1  0 -1  0 -1  0  0  0  0 -1 -1]\n",
            " [ 0  0  0  0  0  0  0  0  0  0  0  0 -1  0  0 -1  0 -1  0 -1]\n",
            " [ 0 -1 -1 -1  0 -1  0 -1  0 -1  0 -1  0 -1 -1  0 -1 -1  0  0]\n",
            " [-1  0  0  0  0  0 -1  0 -1  0  0  0  0  0  0  0  0  0  0 -1]\n",
            " [ 0 -1  0 -1  0 -1  0  0 -1 -1  0 -1 -1  0 -1  0 -1 -1  0  0]\n",
            " [ 0  0  0 -1  0  0 -1  0  0  0  0 -1  0 -1 -1  0  0  0 -1  0]\n",
            " [-1  0 -1  0  0 -1  0 -1 -1 -1  0  0  0 -1  0  0 -1  0  0 -1]\n",
            " [-1  0 -1 -1 -1  0  0  0  0  0  0 -1  0 -1  0 -1  0  0 -1  0]\n",
            " [ 0  0  0  0  0 -1  0 -1 -1  0 -1  0  0 -1  0  0 -1  0  0  0]]\n"
          ]
        }
      ]
    },
    {
      "cell_type": "markdown",
      "source": [
        "# PLACING THE ALIENS , CAPTAIN AND BOTS AT THE STARTING POINTS"
      ],
      "metadata": {
        "id": "clgySxu6nN2f"
      }
    },
    {
      "cell_type": "code",
      "source": [
        "rows,cols =  grid.shape\n",
        "open_cells = []\n",
        "for i in range(rows):\n",
        "  for j in range(cols):\n",
        "    if grid[i,j] == 0:\n",
        "      open_cells.append((i,j))\n"
      ],
      "metadata": {
        "id": "T8nM77kqnVgR"
      },
      "execution_count": 9,
      "outputs": []
    },
    {
      "cell_type": "markdown",
      "source": [
        "**placing K aliens**"
      ],
      "metadata": {
        "id": "TA2HLnfVofNR"
      }
    },
    {
      "cell_type": "code",
      "source": [
        "k = 90\n",
        "alien_cells = []\n",
        "while k:\n",
        "  r = random.choice(open_cells)\n",
        "  print(r)\n",
        "  grid[r] = 1\n",
        "  alien_cells.append(r)\n",
        "  open_cells.remove(r)\n",
        "  k -=1"
      ],
      "metadata": {
        "colab": {
          "base_uri": "https://localhost:8080/"
        },
        "id": "BFP_WzubnnLA",
        "outputId": "7a734fb3-fa66-4ddd-8f39-16af08a69bc8"
      },
      "execution_count": 10,
      "outputs": [
        {
          "output_type": "stream",
          "name": "stdout",
          "text": [
            "(11, 16)\n",
            "(8, 19)\n",
            "(6, 8)\n",
            "(10, 3)\n",
            "(9, 19)\n",
            "(16, 5)\n",
            "(14, 9)\n",
            "(10, 2)\n",
            "(13, 4)\n",
            "(5, 15)\n",
            "(19, 18)\n",
            "(10, 10)\n",
            "(5, 2)\n",
            "(7, 10)\n",
            "(1, 3)\n",
            "(10, 0)\n",
            "(16, 0)\n",
            "(1, 15)\n",
            "(12, 13)\n",
            "(3, 8)\n",
            "(12, 5)\n",
            "(12, 2)\n",
            "(17, 14)\n",
            "(17, 18)\n",
            "(1, 19)\n",
            "(9, 15)\n",
            "(7, 14)\n",
            "(12, 14)\n",
            "(18, 5)\n",
            "(7, 12)\n",
            "(2, 0)\n",
            "(10, 18)\n",
            "(3, 17)\n",
            "(8, 7)\n",
            "(18, 10)\n",
            "(0, 9)\n",
            "(8, 12)\n",
            "(3, 12)\n",
            "(14, 1)\n",
            "(19, 15)\n",
            "(19, 12)\n",
            "(10, 7)\n",
            "(10, 9)\n",
            "(16, 4)\n",
            "(15, 18)\n",
            "(19, 19)\n",
            "(3, 1)\n",
            "(14, 15)\n",
            "(6, 16)\n",
            "(1, 2)\n",
            "(4, 0)\n",
            "(14, 7)\n",
            "(15, 6)\n",
            "(8, 2)\n",
            "(9, 11)\n",
            "(11, 8)\n",
            "(12, 8)\n",
            "(0, 8)\n",
            "(4, 4)\n",
            "(7, 3)\n",
            "(17, 3)\n",
            "(10, 14)\n",
            "(16, 19)\n",
            "(0, 17)\n",
            "(5, 16)\n",
            "(13, 12)\n",
            "(0, 19)\n",
            "(5, 11)\n",
            "(1, 8)\n",
            "(2, 19)\n",
            "(7, 15)\n",
            "(11, 17)\n",
            "(8, 6)\n",
            "(11, 12)\n",
            "(18, 1)\n",
            "(0, 18)\n",
            "(9, 16)\n",
            "(12, 9)\n",
            "(16, 16)\n",
            "(7, 1)\n",
            "(12, 3)\n",
            "(13, 6)\n",
            "(0, 6)\n",
            "(6, 4)\n",
            "(1, 13)\n",
            "(14, 10)\n",
            "(10, 5)\n",
            "(18, 19)\n",
            "(17, 15)\n",
            "(18, 6)\n"
          ]
        }
      ]
    },
    {
      "cell_type": "code",
      "source": [
        "print(grid)"
      ],
      "metadata": {
        "colab": {
          "base_uri": "https://localhost:8080/"
        },
        "id": "gnG0ZvAOoZYc",
        "outputId": "a8b7546f-85c4-4a08-b1aa-c9c2f23f4b69"
      },
      "execution_count": 11,
      "outputs": [
        {
          "output_type": "stream",
          "name": "stdout",
          "text": [
            "[[ 0 -1  0 -1  0  0  1 -1  1  1  0  0 -1  0 -1 -1  0  1  1  1]\n",
            " [ 0  0  1  1 -1 -1  0 -1  1 -1  0 -1 -1  1  0  1 -1  0 -1  1]\n",
            " [ 1 -1  0 -1  0 -1  0  0  0 -1 -1  0  0 -1  0 -1  0 -1  0  1]\n",
            " [-1  1  0  0  0  0 -1 -1  1  0  0 -1  1  0  0  0  0  1  0 -1]\n",
            " [ 1 -1  0 -1  1 -1  0  0 -1  0 -1  0  0 -1  0 -1 -1 -1  0 -1]\n",
            " [ 0 -1  1  0 -1 -1 -1  0 -1  0  0  1 -1  0 -1  1  1  0 -1  0]\n",
            " [ 0  0  0 -1  1 -1  0  0  1 -1  0 -1  0  0 -1 -1  1 -1  0  0]\n",
            " [-1  1 -1  1  0 -1 -1  0 -1  0  1 -1  1 -1  1  1  0  0 -1  0]\n",
            " [ 0  0  1  0 -1  0  1  1  0 -1  0  0  1  0 -1  0 -1  0  0  1]\n",
            " [-1  0 -1 -1 -1 -1  0 -1  0 -1 -1  1 -1 -1  0  1  1 -1 -1  1]\n",
            " [ 1  0  1  1 -1  1  0  1 -1  1  1  0  0  0  1 -1 -1  0  1 -1]\n",
            " [-1  0 -1 -1  0 -1  0 -1  1 -1  0 -1  1 -1  0  0  1  1 -1 -1]\n",
            " [ 0  0  1  1  0  1  0  0  1  1  0  0 -1  1  1 -1  0 -1  0 -1]\n",
            " [ 0 -1 -1 -1  1 -1  1 -1  0 -1  0 -1  1 -1 -1  0 -1 -1  0  0]\n",
            " [-1  1  0  0  0  0 -1  1 -1  1  1  0  0  0  0  1  0  0  0 -1]\n",
            " [ 0 -1  0 -1  0 -1  1  0 -1 -1  0 -1 -1  0 -1  0 -1 -1  1  0]\n",
            " [ 1  0  0 -1  1  1 -1  0  0  0  0 -1  0 -1 -1  0  1  0 -1  1]\n",
            " [-1  0 -1  1  0 -1  0 -1 -1 -1  0  0  0 -1  1  1 -1  0  1 -1]\n",
            " [-1  1 -1 -1 -1  1  1  0  0  0  1 -1  0 -1  0 -1  0  0 -1  1]\n",
            " [ 0  0  0  0  0 -1  0 -1 -1  0 -1  0  1 -1  0  1 -1  0  1  1]]\n"
          ]
        }
      ]
    },
    {
      "cell_type": "markdown",
      "source": [
        "**placing the captain**"
      ],
      "metadata": {
        "id": "sFVk91xxoi14"
      }
    },
    {
      "cell_type": "code",
      "source": [
        "r = random.choice(open_cells)\n",
        "grid[r] = 10\n",
        "goal = r\n",
        "#not removing the cell from open cell as the bot may be able to spawn in the cell of the captain"
      ],
      "metadata": {
        "id": "5fbjvccQolqc"
      },
      "execution_count": 12,
      "outputs": []
    },
    {
      "cell_type": "markdown",
      "source": [
        "**placing the bot**"
      ],
      "metadata": {
        "id": "oTHNLDgGo5zU"
      }
    },
    {
      "cell_type": "code",
      "source": [
        "r =  random.choice(open_cells)\n",
        "grid[r] = 2\n",
        "start = r"
      ],
      "metadata": {
        "id": "Qm45ehBXpLP5"
      },
      "execution_count": 13,
      "outputs": []
    },
    {
      "cell_type": "markdown",
      "source": [
        "FINAL START STATE OF GRID"
      ],
      "metadata": {
        "id": "hOYQJJmGpdCw"
      }
    },
    {
      "cell_type": "code",
      "source": [
        "grid"
      ],
      "metadata": {
        "colab": {
          "base_uri": "https://localhost:8080/"
        },
        "id": "6BLw8IiWpb6Y",
        "outputId": "fde760ee-8b07-47a5-c594-f2ef77c09c7f"
      },
      "execution_count": 14,
      "outputs": [
        {
          "output_type": "execute_result",
          "data": {
            "text/plain": [
              "array([[ 0, -1,  0, -1,  0,  0,  1, -1,  1,  1,  0,  0, -1,  0, -1, -1,\n",
              "         0,  1,  1,  1],\n",
              "       [ 0,  0,  1,  1, -1, -1,  0, -1,  1, -1,  0, -1, -1,  1,  0,  1,\n",
              "        -1,  0, -1,  1],\n",
              "       [ 1, -1,  0, -1,  0, -1,  0,  0,  0, -1, -1,  0,  0, -1,  0, -1,\n",
              "         0, -1,  0,  1],\n",
              "       [-1,  1,  0,  0,  0,  0, -1, -1,  1,  0,  0, -1,  1,  0,  0,  0,\n",
              "         0,  1,  0, -1],\n",
              "       [ 1, -1,  0, -1,  1, -1,  0,  0, -1,  0, -1,  0,  0, -1,  0, -1,\n",
              "        -1, -1,  0, -1],\n",
              "       [ 0, -1,  1,  0, -1, -1, -1,  0, -1,  0,  0,  1, -1,  0, -1,  1,\n",
              "         1,  0, -1,  0],\n",
              "       [ 0,  0,  0, -1,  1, -1,  0,  0,  1, -1,  0, -1,  0,  0, -1, -1,\n",
              "         1, -1,  0,  0],\n",
              "       [-1,  1, -1,  1,  0, -1, -1,  0, -1,  0,  1, -1,  1, -1,  1,  1,\n",
              "         0,  0, -1,  0],\n",
              "       [ 0,  0,  1,  0, -1,  0,  1,  1,  0, -1,  0,  0,  1,  0, -1,  0,\n",
              "        -1,  0,  0,  1],\n",
              "       [-1,  0, -1, -1, -1, -1,  0, -1,  0, -1, -1,  1, -1, -1,  0,  1,\n",
              "         1, -1, -1,  1],\n",
              "       [ 1,  0,  1,  1, -1,  1,  0,  1, -1,  1,  1,  0, 10,  0,  1, -1,\n",
              "        -1,  0,  1, -1],\n",
              "       [-1,  0, -1, -1,  0, -1,  0, -1,  1, -1,  0, -1,  1, -1,  0,  0,\n",
              "         1,  1, -1, -1],\n",
              "       [ 0,  0,  1,  1,  0,  1,  0,  0,  1,  1,  0,  0, -1,  1,  1, -1,\n",
              "         0, -1,  0, -1],\n",
              "       [ 0, -1, -1, -1,  1, -1,  1, -1,  0, -1,  0, -1,  1, -1, -1,  0,\n",
              "        -1, -1,  0,  0],\n",
              "       [-1,  1,  0,  0,  0,  0, -1,  1, -1,  1,  1,  0,  0,  0,  0,  1,\n",
              "         0,  0,  0, -1],\n",
              "       [ 0, -1,  0, -1,  0, -1,  1,  0, -1, -1,  0, -1, -1,  0, -1,  0,\n",
              "        -1, -1,  1,  0],\n",
              "       [ 1,  2,  0, -1,  1,  1, -1,  0,  0,  0,  0, -1,  0, -1, -1,  0,\n",
              "         1,  0, -1,  1],\n",
              "       [-1,  0, -1,  1,  0, -1,  0, -1, -1, -1,  0,  0,  0, -1,  1,  1,\n",
              "        -1,  0,  1, -1],\n",
              "       [-1,  1, -1, -1, -1,  1,  1,  0,  0,  0,  1, -1,  0, -1,  0, -1,\n",
              "         0,  0, -1,  1],\n",
              "       [ 0,  0,  0,  0,  0, -1,  0, -1, -1,  0, -1,  0,  1, -1,  0,  1,\n",
              "        -1,  0,  1,  1]])"
            ]
          },
          "metadata": {},
          "execution_count": 14
        }
      ]
    },
    {
      "cell_type": "markdown",
      "source": [
        "# generate cells for possible moves"
      ],
      "metadata": {
        "id": "AxEpCL0Wtj9p"
      }
    },
    {
      "cell_type": "code",
      "source": [
        "def get_adjacent_cells(grid, x, y):\n",
        "  adjacent_cells = []\n",
        "  if 0 <= x - 1 < grid.shape[0]:\n",
        "    adjacent_cells.append((x - 1, y))  # Top\n",
        "  if 0 <= y - 1 < grid.shape[1]:\n",
        "    adjacent_cells.append((x, y - 1))  # Left\n",
        "  if 0 <= x + 1 < grid.shape[0]:\n",
        "    adjacent_cells.append((x + 1, y))  # Bottom\n",
        "  if 0 <= y + 1 < grid.shape[1]:\n",
        "    adjacent_cells.append((x, y + 1))  # Right\n",
        "  return adjacent_cells"
      ],
      "metadata": {
        "id": "a_Q6ZAi7tpwo"
      },
      "execution_count": 15,
      "outputs": []
    },
    {
      "cell_type": "markdown",
      "source": [
        "# BOT 1"
      ],
      "metadata": {
        "id": "p8AiaK9Qpptl"
      }
    },
    {
      "cell_type": "markdown",
      "source": [
        "Bot 1 plans the shortest path from start point to captain and ignores the position of aliens at all times"
      ],
      "metadata": {
        "id": "vJB0-0ilqWKh"
      }
    },
    {
      "cell_type": "code",
      "source": [
        "grid1 = grid\n",
        "#saving a copy of the original grid"
      ],
      "metadata": {
        "id": "z-odmEWRpttI"
      },
      "execution_count": 16,
      "outputs": []
    },
    {
      "cell_type": "markdown",
      "source": [
        "Using bfs to find the shortest path"
      ],
      "metadata": {
        "id": "5G1N1AjgsXRJ"
      }
    },
    {
      "cell_type": "code",
      "source": [
        "def find_shortest_path(grid, start, goal):\n",
        "    rows, cols = grid.shape\n",
        "    queue = [(start, [start])]\n",
        "    visited = set()\n",
        "\n",
        "    while queue:\n",
        "        cell, path = queue.pop(0)\n",
        "        visited.add(cell)\n",
        "\n",
        "        if cell == goal:\n",
        "            return path\n",
        "\n",
        "        for neighbor in [(cell[0] + 1, cell[1]), (cell[0] - 1, cell[1]),\n",
        "                         (cell[0], cell[1] + 1), (cell[0], cell[1] - 1)]:\n",
        "            if 0 <= neighbor[0] < rows and 0 <= neighbor[1] < cols and grid[neighbor] != -1 and neighbor not in visited:\n",
        "                queue.append((neighbor, path + [neighbor]))\n",
        "\n",
        "    return None"
      ],
      "metadata": {
        "id": "S5ERncmErjGx"
      },
      "execution_count": 17,
      "outputs": []
    },
    {
      "cell_type": "code",
      "source": [
        "def bot1_start_rescue(grid):\n",
        "  bot1_path = find_shortest_path(grid,start,goal)\n",
        "  return bot1_path\n"
      ],
      "metadata": {
        "id": "dT1RaaTSpxI3"
      },
      "execution_count": 18,
      "outputs": []
    },
    {
      "cell_type": "code",
      "source": [
        "path = bot1_start_rescue(grid1)\n",
        "path"
      ],
      "metadata": {
        "colab": {
          "base_uri": "https://localhost:8080/"
        },
        "id": "4yVbjaEdsFgI",
        "outputId": "7298ae9b-8c80-44f9-86c3-5de991e92ace"
      },
      "execution_count": 19,
      "outputs": [
        {
          "output_type": "execute_result",
          "data": {
            "text/plain": [
              "[(16, 1),\n",
              " (16, 2),\n",
              " (15, 2),\n",
              " (14, 2),\n",
              " (14, 3),\n",
              " (14, 4),\n",
              " (13, 4),\n",
              " (12, 4),\n",
              " (12, 5),\n",
              " (12, 6),\n",
              " (12, 7),\n",
              " (12, 8),\n",
              " (12, 9),\n",
              " (12, 10),\n",
              " (11, 10),\n",
              " (10, 10),\n",
              " (10, 11),\n",
              " (10, 12)]"
            ]
          },
          "metadata": {},
          "execution_count": 19
        }
      ]
    },
    {
      "cell_type": "markdown",
      "source": [
        "Moving the bot step by step until the goal is reached or bot meets alien"
      ],
      "metadata": {
        "id": "gwQ0zxbosgTC"
      }
    },
    {
      "cell_type": "code",
      "source": [
        "prev_cell =[start]\n",
        "flag  = 0\n",
        "bot_path = [start]\n",
        "while flag == 0:\n",
        "  for cell in path:\n",
        "    print(\"\\n \\n \\n \\n\")\n",
        "    print(grid1)\n",
        "    grid1[cell] = 2\n",
        "    grid1[prev_cell] = 0\n",
        "    prev_cell = cell\n",
        "    if cell == goal:\n",
        "      flag = 1\n",
        "      break\n",
        "    chosen_alien = random.choice(alien_cells)\n",
        "    alien_possible_moves = get_adjacent_cells(grid1,chosen_alien[0],chosen_alien[1])\n",
        "    random_cell_choice = random.choice(alien_possible_moves)\n",
        "    print(f\"Alien moves from f{chosen_alien} to {random_cell_choice}\")\n",
        "    if grid1[random_cell_choice] == 2:\n",
        "      flag = 2\n",
        "      break\n",
        "    else:\n",
        "      grid1[random_cell_choice] = 1\n",
        "      grid1[chosen_alien] = 0\n",
        "      alien_cells.remove(chosen_alien)\n",
        "      alien_cells.append(random_cell_choice)\n",
        "      bot_path.append(cell)\n",
        "if flag == 1:\n",
        "  print(\"GOAL REACHED\")\n",
        "else:\n",
        "  print(\"GOAL FAILED\")\n",
        "  print(f\"Alien meet bot at {random_cell_choice}\")\n",
        "print(bot_path)\n",
        "print(f\"no of steps taken = {len(bot_path)}\")\n",
        "\n"
      ],
      "metadata": {
        "colab": {
          "base_uri": "https://localhost:8080/"
        },
        "id": "MN7yNLA9sp2t",
        "outputId": "cb36e832-e412-446a-fc4c-17ebbfa969b2"
      },
      "execution_count": 20,
      "outputs": [
        {
          "output_type": "stream",
          "name": "stdout",
          "text": [
            "\n",
            " \n",
            " \n",
            " \n",
            "\n",
            "[[ 0 -1  0 -1  0  0  1 -1  1  1  0  0 -1  0 -1 -1  0  1  1  1]\n",
            " [ 0  0  1  1 -1 -1  0 -1  1 -1  0 -1 -1  1  0  1 -1  0 -1  1]\n",
            " [ 1 -1  0 -1  0 -1  0  0  0 -1 -1  0  0 -1  0 -1  0 -1  0  1]\n",
            " [-1  1  0  0  0  0 -1 -1  1  0  0 -1  1  0  0  0  0  1  0 -1]\n",
            " [ 1 -1  0 -1  1 -1  0  0 -1  0 -1  0  0 -1  0 -1 -1 -1  0 -1]\n",
            " [ 0 -1  1  0 -1 -1 -1  0 -1  0  0  1 -1  0 -1  1  1  0 -1  0]\n",
            " [ 0  0  0 -1  1 -1  0  0  1 -1  0 -1  0  0 -1 -1  1 -1  0  0]\n",
            " [-1  1 -1  1  0 -1 -1  0 -1  0  1 -1  1 -1  1  1  0  0 -1  0]\n",
            " [ 0  0  1  0 -1  0  1  1  0 -1  0  0  1  0 -1  0 -1  0  0  1]\n",
            " [-1  0 -1 -1 -1 -1  0 -1  0 -1 -1  1 -1 -1  0  1  1 -1 -1  1]\n",
            " [ 1  0  1  1 -1  1  0  1 -1  1  1  0 10  0  1 -1 -1  0  1 -1]\n",
            " [-1  0 -1 -1  0 -1  0 -1  1 -1  0 -1  1 -1  0  0  1  1 -1 -1]\n",
            " [ 0  0  1  1  0  1  0  0  1  1  0  0 -1  1  1 -1  0 -1  0 -1]\n",
            " [ 0 -1 -1 -1  1 -1  1 -1  0 -1  0 -1  1 -1 -1  0 -1 -1  0  0]\n",
            " [-1  1  0  0  0  0 -1  1 -1  1  1  0  0  0  0  1  0  0  0 -1]\n",
            " [ 0 -1  0 -1  0 -1  1  0 -1 -1  0 -1 -1  0 -1  0 -1 -1  1  0]\n",
            " [ 1  2  0 -1  1  1 -1  0  0  0  0 -1  0 -1 -1  0  1  0 -1  1]\n",
            " [-1  0 -1  1  0 -1  0 -1 -1 -1  0  0  0 -1  1  1 -1  0  1 -1]\n",
            " [-1  1 -1 -1 -1  1  1  0  0  0  1 -1  0 -1  0 -1  0  0 -1  1]\n",
            " [ 0  0  0  0  0 -1  0 -1 -1  0 -1  0  1 -1  0  1 -1  0  1  1]]\n",
            "Alien moves from f(7, 3) to (6, 3)\n",
            "\n",
            " \n",
            " \n",
            " \n",
            "\n",
            "[[ 0 -1  0 -1  0  0  1 -1  1  1  0  0 -1  0 -1 -1  0  1  1  1]\n",
            " [ 0  0  0  0  0  0  0  0  0  0  0  0  0  0  0  0  0  0  0  0]\n",
            " [ 1 -1  0 -1  0 -1  0  0  0 -1 -1  0  0 -1  0 -1  0 -1  0  1]\n",
            " [-1  1  0  0  0  0 -1 -1  1  0  0 -1  1  0  0  0  0  1  0 -1]\n",
            " [ 1 -1  0 -1  1 -1  0  0 -1  0 -1  0  0 -1  0 -1 -1 -1  0 -1]\n",
            " [ 0 -1  1  0 -1 -1 -1  0 -1  0  0  1 -1  0 -1  1  1  0 -1  0]\n",
            " [ 0  0  0  1  1 -1  0  0  1 -1  0 -1  0  0 -1 -1  1 -1  0  0]\n",
            " [-1  1 -1  0  0 -1 -1  0 -1  0  1 -1  1 -1  1  1  0  0 -1  0]\n",
            " [ 0  0  1  0 -1  0  1  1  0 -1  0  0  1  0 -1  0 -1  0  0  1]\n",
            " [-1  0 -1 -1 -1 -1  0 -1  0 -1 -1  1 -1 -1  0  1  1 -1 -1  1]\n",
            " [ 1  0  1  1 -1  1  0  1 -1  1  1  0 10  0  1 -1 -1  0  1 -1]\n",
            " [-1  0 -1 -1  0 -1  0 -1  1 -1  0 -1  1 -1  0  0  1  1 -1 -1]\n",
            " [ 0  0  1  1  0  1  0  0  1  1  0  0 -1  1  1 -1  0 -1  0 -1]\n",
            " [ 0 -1 -1 -1  1 -1  1 -1  0 -1  0 -1  1 -1 -1  0 -1 -1  0  0]\n",
            " [-1  1  0  0  0  0 -1  1 -1  1  1  0  0  0  0  1  0  0  0 -1]\n",
            " [ 0 -1  0 -1  0 -1  1  0 -1 -1  0 -1 -1  0 -1  0 -1 -1  1  0]\n",
            " [ 0  0  0  0  0  0  0  0  0  0  0  0  0  0  0  0  0  0  0  0]\n",
            " [-1  0 -1  1  0 -1  0 -1 -1 -1  0  0  0 -1  1  1 -1  0  1 -1]\n",
            " [-1  1 -1 -1 -1  1  1  0  0  0  1 -1  0 -1  0 -1  0  0 -1  1]\n",
            " [ 0  0  0  0  0 -1  0 -1 -1  0 -1  0  1 -1  0  1 -1  0  1  1]]\n",
            "Alien moves from f(0, 8) to (0, 7)\n",
            "\n",
            " \n",
            " \n",
            " \n",
            "\n",
            "[[ 0 -1  0 -1  0  0  1  1  0  1  0  0 -1  0 -1 -1  0  1  1  1]\n",
            " [ 0  0  0  0  0  0  0  0  0  0  0  0  0  0  0  0  0  0  0  0]\n",
            " [ 1 -1  0 -1  0 -1  0  0  0 -1 -1  0  0 -1  0 -1  0 -1  0  1]\n",
            " [-1  1  0  0  0  0 -1 -1  1  0  0 -1  1  0  0  0  0  1  0 -1]\n",
            " [ 1 -1  0 -1  1 -1  0  0 -1  0 -1  0  0 -1  0 -1 -1 -1  0 -1]\n",
            " [ 0 -1  1  0 -1 -1 -1  0 -1  0  0  1 -1  0 -1  1  1  0 -1  0]\n",
            " [ 0  0  0  1  1 -1  0  0  1 -1  0 -1  0  0 -1 -1  1 -1  0  0]\n",
            " [-1  1 -1  0  0 -1 -1  0 -1  0  1 -1  1 -1  1  1  0  0 -1  0]\n",
            " [ 0  0  1  0 -1  0  1  1  0 -1  0  0  1  0 -1  0 -1  0  0  1]\n",
            " [-1  0 -1 -1 -1 -1  0 -1  0 -1 -1  1 -1 -1  0  1  1 -1 -1  1]\n",
            " [ 1  0  1  1 -1  1  0  1 -1  1  1  0 10  0  1 -1 -1  0  1 -1]\n",
            " [-1  0 -1 -1  0 -1  0 -1  1 -1  0 -1  1 -1  0  0  1  1 -1 -1]\n",
            " [ 0  0  1  1  0  1  0  0  1  1  0  0 -1  1  1 -1  0 -1  0 -1]\n",
            " [ 0 -1 -1 -1  1 -1  1 -1  0 -1  0 -1  1 -1 -1  0 -1 -1  0  0]\n",
            " [-1  1  0  0  0  0 -1  1 -1  1  1  0  0  0  0  1  0  0  0 -1]\n",
            " [ 0 -1  0 -1  0 -1  1  0 -1 -1  0 -1 -1  0 -1  0 -1 -1  1  0]\n",
            " [ 0  0  2  0  0  0  0  0  0  0  0  0  0  0  0  0  0  0  0  0]\n",
            " [-1  0 -1  1  0 -1  0 -1 -1 -1  0  0  0 -1  1  1 -1  0  1 -1]\n",
            " [-1  1 -1 -1 -1  1  1  0  0  0  1 -1  0 -1  0 -1  0  0 -1  1]\n",
            " [ 0  0  0  0  0 -1  0 -1 -1  0 -1  0  1 -1  0  1 -1  0  1  1]]\n",
            "Alien moves from f(5, 16) to (5, 15)\n",
            "\n",
            " \n",
            " \n",
            " \n",
            "\n",
            "[[ 0 -1  0 -1  0  0  1  1  0  1  0  0 -1  0 -1 -1  0  1  1  1]\n",
            " [ 0  0  0  0  0  0  0  0  0  0  0  0  0  0  0  0  0  0  0  0]\n",
            " [ 1 -1  0 -1  0 -1  0  0  0 -1 -1  0  0 -1  0 -1  0 -1  0  1]\n",
            " [-1  1  0  0  0  0 -1 -1  1  0  0 -1  1  0  0  0  0  1  0 -1]\n",
            " [ 1 -1  0 -1  1 -1  0  0 -1  0 -1  0  0 -1  0 -1 -1 -1  0 -1]\n",
            " [ 0 -1  1  0 -1 -1 -1  0 -1  0  0  1 -1  0 -1  1  0  0 -1  0]\n",
            " [ 0  0  0  1  1 -1  0  0  1 -1  0 -1  0  0 -1 -1  1 -1  0  0]\n",
            " [-1  1 -1  0  0 -1 -1  0 -1  0  1 -1  1 -1  1  1  0  0 -1  0]\n",
            " [ 0  0  1  0 -1  0  1  1  0 -1  0  0  1  0 -1  0 -1  0  0  1]\n",
            " [-1  0 -1 -1 -1 -1  0 -1  0 -1 -1  1 -1 -1  0  1  1 -1 -1  1]\n",
            " [ 1  0  1  1 -1  1  0  1 -1  1  1  0 10  0  1 -1 -1  0  1 -1]\n",
            " [-1  0 -1 -1  0 -1  0 -1  1 -1  0 -1  1 -1  0  0  1  1 -1 -1]\n",
            " [ 0  0  1  1  0  1  0  0  1  1  0  0 -1  1  1 -1  0 -1  0 -1]\n",
            " [ 0 -1 -1 -1  1 -1  1 -1  0 -1  0 -1  1 -1 -1  0 -1 -1  0  0]\n",
            " [-1  1  0  0  0  0 -1  1 -1  1  1  0  0  0  0  1  0  0  0 -1]\n",
            " [ 0 -1  2 -1  0 -1  1  0 -1 -1  0 -1 -1  0 -1  0 -1 -1  1  0]\n",
            " [ 0  0  0  0  0  0  0  0  0  0  0  0  0  0  0  0  0  0  0  0]\n",
            " [-1  0 -1  1  0 -1  0 -1 -1 -1  0  0  0 -1  1  1 -1  0  1 -1]\n",
            " [-1  1 -1 -1 -1  1  1  0  0  0  1 -1  0 -1  0 -1  0  0 -1  1]\n",
            " [ 0  0  0  0  0 -1  0 -1 -1  0 -1  0  1 -1  0  1 -1  0  1  1]]\n",
            "Alien moves from f(3, 1) to (2, 1)\n",
            "\n",
            " \n",
            " \n",
            " \n",
            "\n",
            "[[ 0 -1  0 -1  0  0  1  1  0  1  0  0 -1  0 -1 -1  0  1  1  1]\n",
            " [ 0  0  0  0  0  0  0  0  0  0  0  0  0  0  0  0  0  0  0  0]\n",
            " [ 1  1  0 -1  0 -1  0  0  0 -1 -1  0  0 -1  0 -1  0 -1  0  1]\n",
            " [-1  0  0  0  0  0 -1 -1  1  0  0 -1  1  0  0  0  0  1  0 -1]\n",
            " [ 1 -1  0 -1  1 -1  0  0 -1  0 -1  0  0 -1  0 -1 -1 -1  0 -1]\n",
            " [ 0 -1  1  0 -1 -1 -1  0 -1  0  0  1 -1  0 -1  1  0  0 -1  0]\n",
            " [ 0  0  0  1  1 -1  0  0  1 -1  0 -1  0  0 -1 -1  1 -1  0  0]\n",
            " [-1  1 -1  0  0 -1 -1  0 -1  0  1 -1  1 -1  1  1  0  0 -1  0]\n",
            " [ 0  0  1  0 -1  0  1  1  0 -1  0  0  1  0 -1  0 -1  0  0  1]\n",
            " [-1  0 -1 -1 -1 -1  0 -1  0 -1 -1  1 -1 -1  0  1  1 -1 -1  1]\n",
            " [ 1  0  1  1 -1  1  0  1 -1  1  1  0 10  0  1 -1 -1  0  1 -1]\n",
            " [-1  0 -1 -1  0 -1  0 -1  1 -1  0 -1  1 -1  0  0  1  1 -1 -1]\n",
            " [ 0  0  1  1  0  1  0  0  1  1  0  0 -1  1  1 -1  0 -1  0 -1]\n",
            " [ 0 -1 -1 -1  1 -1  1 -1  0 -1  0 -1  1 -1 -1  0 -1 -1  0  0]\n",
            " [-1  1  2  0  0  0 -1  1 -1  1  1  0  0  0  0  1  0  0  0 -1]\n",
            " [ 0 -1  0 -1  0 -1  1  0 -1 -1  0 -1 -1  0 -1  0 -1 -1  1  0]\n",
            " [ 0  0  0  0  0  0  0  0  0  0  0  0  0  0  0  0  0  0  0  0]\n",
            " [-1  0 -1  1  0 -1  0 -1 -1 -1  0  0  0 -1  1  1 -1  0  1 -1]\n",
            " [-1  1 -1 -1 -1  1  1  0  0  0  1 -1  0 -1  0 -1  0  0 -1  1]\n",
            " [ 0  0  0  0  0 -1  0 -1 -1  0 -1  0  1 -1  0  1 -1  0  1  1]]\n",
            "Alien moves from f(8, 12) to (9, 12)\n",
            "\n",
            " \n",
            " \n",
            " \n",
            "\n",
            "[[ 0 -1  0 -1  0  0  1  1  0  1  0  0 -1  0 -1 -1  0  1  1  1]\n",
            " [ 0  0  0  0  0  0  0  0  0  0  0  0  0  0  0  0  0  0  0  0]\n",
            " [ 1  1  0 -1  0 -1  0  0  0 -1 -1  0  0 -1  0 -1  0 -1  0  1]\n",
            " [-1  0  0  0  0  0 -1 -1  1  0  0 -1  1  0  0  0  0  1  0 -1]\n",
            " [ 1 -1  0 -1  1 -1  0  0 -1  0 -1  0  0 -1  0 -1 -1 -1  0 -1]\n",
            " [ 0 -1  1  0 -1 -1 -1  0 -1  0  0  1 -1  0 -1  1  0  0 -1  0]\n",
            " [ 0  0  0  1  1 -1  0  0  1 -1  0 -1  0  0 -1 -1  1 -1  0  0]\n",
            " [-1  1 -1  0  0 -1 -1  0 -1  0  1 -1  1 -1  1  1  0  0 -1  0]\n",
            " [ 0  0  1  0 -1  0  1  1  0 -1  0  0  0  0 -1  0 -1  0  0  1]\n",
            " [-1  0 -1 -1 -1 -1  0 -1  0 -1 -1  1  1 -1  0  1  1 -1 -1  1]\n",
            " [ 1  0  1  1 -1  1  0  1 -1  1  1  0 10  0  1 -1 -1  0  1 -1]\n",
            " [-1  0 -1 -1  0 -1  0 -1  1 -1  0 -1  1 -1  0  0  1  1 -1 -1]\n",
            " [ 0  0  1  1  0  1  0  0  1  1  0  0 -1  1  1 -1  0 -1  0 -1]\n",
            " [ 0 -1 -1 -1  1 -1  1 -1  0 -1  0 -1  1 -1 -1  0 -1 -1  0  0]\n",
            " [-1  1  0  2  0  0 -1  1 -1  1  1  0  0  0  0  1  0  0  0 -1]\n",
            " [ 0 -1  0 -1  0 -1  1  0 -1 -1  0 -1 -1  0 -1  0 -1 -1  1  0]\n",
            " [ 0  0  0  0  0  0  0  0  0  0  0  0  0  0  0  0  0  0  0  0]\n",
            " [-1  0 -1  1  0 -1  0 -1 -1 -1  0  0  0 -1  1  1 -1  0  1 -1]\n",
            " [-1  1 -1 -1 -1  1  1  0  0  0  1 -1  0 -1  0 -1  0  0 -1  1]\n",
            " [ 0  0  0  0  0 -1  0 -1 -1  0 -1  0  1 -1  0  1 -1  0  1  1]]\n",
            "Alien moves from f(15, 6) to (14, 6)\n",
            "\n",
            " \n",
            " \n",
            " \n",
            "\n",
            "[[ 0 -1  0 -1  0  0  1  1  0  1  0  0 -1  0 -1 -1  0  1  1  1]\n",
            " [ 0  0  0  0  0  0  0  0  0  0  0  0  0  0  0  0  0  0  0  0]\n",
            " [ 1  1  0 -1  0 -1  0  0  0 -1 -1  0  0 -1  0 -1  0 -1  0  1]\n",
            " [-1  0  0  0  0  0 -1 -1  1  0  0 -1  1  0  0  0  0  1  0 -1]\n",
            " [ 1 -1  0 -1  1 -1  0  0 -1  0 -1  0  0 -1  0 -1 -1 -1  0 -1]\n",
            " [ 0 -1  1  0 -1 -1 -1  0 -1  0  0  1 -1  0 -1  1  0  0 -1  0]\n",
            " [ 0  0  0  1  1 -1  0  0  1 -1  0 -1  0  0 -1 -1  1 -1  0  0]\n",
            " [-1  1 -1  0  0 -1 -1  0 -1  0  1 -1  1 -1  1  1  0  0 -1  0]\n",
            " [ 0  0  1  0 -1  0  1  1  0 -1  0  0  0  0 -1  0 -1  0  0  1]\n",
            " [-1  0 -1 -1 -1 -1  0 -1  0 -1 -1  1  1 -1  0  1  1 -1 -1  1]\n",
            " [ 1  0  1  1 -1  1  0  1 -1  1  1  0 10  0  1 -1 -1  0  1 -1]\n",
            " [-1  0 -1 -1  0 -1  0 -1  1 -1  0 -1  1 -1  0  0  1  1 -1 -1]\n",
            " [ 0  0  1  1  0  1  0  0  1  1  0  0 -1  1  1 -1  0 -1  0 -1]\n",
            " [ 0 -1 -1 -1  1 -1  1 -1  0 -1  0 -1  1 -1 -1  0 -1 -1  0  0]\n",
            " [-1  1  0  0  2  0  1  1 -1  1  1  0  0  0  0  1  0  0  0 -1]\n",
            " [ 0 -1  0 -1  0 -1  0  0 -1 -1  0 -1 -1  0 -1  0 -1 -1  1  0]\n",
            " [ 0  0  0  0  0  0  0  0  0  0  0  0  0  0  0  0  0  0  0  0]\n",
            " [-1  0 -1  1  0 -1  0 -1 -1 -1  0  0  0 -1  1  1 -1  0  1 -1]\n",
            " [-1  1 -1 -1 -1  1  1  0  0  0  1 -1  0 -1  0 -1  0  0 -1  1]\n",
            " [ 0  0  0  0  0 -1  0 -1 -1  0 -1  0  1 -1  0  1 -1  0  1  1]]\n",
            "Alien moves from f(2, 1) to (3, 1)\n",
            "\n",
            " \n",
            " \n",
            " \n",
            "\n",
            "[[ 0 -1  0 -1  0  0  1  1  0  1  0  0 -1  0 -1 -1  0  1  1  1]\n",
            " [ 0  0  0  0  0  0  0  0  0  0  0  0  0  0  0  0  0  0  0  0]\n",
            " [ 1  0  0 -1  0 -1  0  0  0 -1 -1  0  0 -1  0 -1  0 -1  0  1]\n",
            " [-1  1  0  0  0  0 -1 -1  1  0  0 -1  1  0  0  0  0  1  0 -1]\n",
            " [ 1 -1  0 -1  1 -1  0  0 -1  0 -1  0  0 -1  0 -1 -1 -1  0 -1]\n",
            " [ 0 -1  1  0 -1 -1 -1  0 -1  0  0  1 -1  0 -1  1  0  0 -1  0]\n",
            " [ 0  0  0  1  1 -1  0  0  1 -1  0 -1  0  0 -1 -1  1 -1  0  0]\n",
            " [-1  1 -1  0  0 -1 -1  0 -1  0  1 -1  1 -1  1  1  0  0 -1  0]\n",
            " [ 0  0  1  0 -1  0  1  1  0 -1  0  0  0  0 -1  0 -1  0  0  1]\n",
            " [-1  0 -1 -1 -1 -1  0 -1  0 -1 -1  1  1 -1  0  1  1 -1 -1  1]\n",
            " [ 1  0  1  1 -1  1  0  1 -1  1  1  0 10  0  1 -1 -1  0  1 -1]\n",
            " [-1  0 -1 -1  0 -1  0 -1  1 -1  0 -1  1 -1  0  0  1  1 -1 -1]\n",
            " [ 0  0  1  1  0  1  0  0  1  1  0  0 -1  1  1 -1  0 -1  0 -1]\n",
            " [ 0 -1 -1 -1  2 -1  1 -1  0 -1  0 -1  1 -1 -1  0 -1 -1  0  0]\n",
            " [-1  1  0  0  0  0  1  1 -1  1  1  0  0  0  0  1  0  0  0 -1]\n",
            " [ 0 -1  0 -1  0 -1  0  0 -1 -1  0 -1 -1  0 -1  0 -1 -1  1  0]\n",
            " [ 0  0  0  0  0  0  0  0  0  0  0  0  0  0  0  0  0  0  0  0]\n",
            " [-1  0 -1  1  0 -1  0 -1 -1 -1  0  0  0 -1  1  1 -1  0  1 -1]\n",
            " [-1  1 -1 -1 -1  1  1  0  0  0  1 -1  0 -1  0 -1  0  0 -1  1]\n",
            " [ 0  0  0  0  0 -1  0 -1 -1  0 -1  0  1 -1  0  1 -1  0  1  1]]\n",
            "Alien moves from f(14, 15) to (14, 14)\n",
            "\n",
            " \n",
            " \n",
            " \n",
            "\n",
            "[[ 0 -1  0 -1  0  0  1  1  0  1  0  0 -1  0 -1 -1  0  1  1  1]\n",
            " [ 0  0  0  0  0  0  0  0  0  0  0  0  0  0  0  0  0  0  0  0]\n",
            " [ 1  0  0 -1  0 -1  0  0  0 -1 -1  0  0 -1  0 -1  0 -1  0  1]\n",
            " [-1  1  0  0  0  0 -1 -1  1  0  0 -1  1  0  0  0  0  1  0 -1]\n",
            " [ 1 -1  0 -1  1 -1  0  0 -1  0 -1  0  0 -1  0 -1 -1 -1  0 -1]\n",
            " [ 0 -1  1  0 -1 -1 -1  0 -1  0  0  1 -1  0 -1  1  0  0 -1  0]\n",
            " [ 0  0  0  1  1 -1  0  0  1 -1  0 -1  0  0 -1 -1  1 -1  0  0]\n",
            " [-1  1 -1  0  0 -1 -1  0 -1  0  1 -1  1 -1  1  1  0  0 -1  0]\n",
            " [ 0  0  1  0 -1  0  1  1  0 -1  0  0  0  0 -1  0 -1  0  0  1]\n",
            " [-1  0 -1 -1 -1 -1  0 -1  0 -1 -1  1  1 -1  0  1  1 -1 -1  1]\n",
            " [ 1  0  1  1 -1  1  0  1 -1  1  1  0 10  0  1 -1 -1  0  1 -1]\n",
            " [-1  0 -1 -1  0 -1  0 -1  1 -1  0 -1  1 -1  0  0  1  1 -1 -1]\n",
            " [ 0  0  1  1  2  1  0  0  1  1  0  0 -1  1  1 -1  0 -1  0 -1]\n",
            " [ 0 -1 -1 -1  0 -1  1 -1  0 -1  0 -1  1 -1 -1  0 -1 -1  0  0]\n",
            " [-1  1  0  0  0  0  1  1 -1  1  1  0  0  0  1  0  0  0  0 -1]\n",
            " [ 0 -1  0 -1  0 -1  0  0 -1 -1  0 -1 -1  0 -1  0 -1 -1  1  0]\n",
            " [ 0  0  0  0  0  0  0  0  0  0  0  0  0  0  0  0  0  0  0  0]\n",
            " [-1  0 -1  1  0 -1  0 -1 -1 -1  0  0  0 -1  1  1 -1  0  1 -1]\n",
            " [-1  1 -1 -1 -1  1  1  0  0  0  1 -1  0 -1  0 -1  0  0 -1  1]\n",
            " [ 0  0  0  0  0 -1  0 -1 -1  0 -1  0  1 -1  0  1 -1  0  1  1]]\n",
            "Alien moves from f(12, 14) to (11, 14)\n",
            "\n",
            " \n",
            " \n",
            " \n",
            "\n",
            "[[ 0 -1  0 -1  0  0  1  1  0  1  0  0 -1  0 -1 -1  0  1  1  1]\n",
            " [ 0  0  0  0  0  0  0  0  0  0  0  0  0  0  0  0  0  0  0  0]\n",
            " [ 1  0  0 -1  0 -1  0  0  0 -1 -1  0  0 -1  0 -1  0 -1  0  1]\n",
            " [-1  1  0  0  0  0 -1 -1  1  0  0 -1  1  0  0  0  0  1  0 -1]\n",
            " [ 1 -1  0 -1  1 -1  0  0 -1  0 -1  0  0 -1  0 -1 -1 -1  0 -1]\n",
            " [ 0 -1  1  0 -1 -1 -1  0 -1  0  0  1 -1  0 -1  1  0  0 -1  0]\n",
            " [ 0  0  0  1  1 -1  0  0  1 -1  0 -1  0  0 -1 -1  1 -1  0  0]\n",
            " [-1  1 -1  0  0 -1 -1  0 -1  0  1 -1  1 -1  1  1  0  0 -1  0]\n",
            " [ 0  0  1  0 -1  0  1  1  0 -1  0  0  0  0 -1  0 -1  0  0  1]\n",
            " [-1  0 -1 -1 -1 -1  0 -1  0 -1 -1  1  1 -1  0  1  1 -1 -1  1]\n",
            " [ 1  0  1  1 -1  1  0  1 -1  1  1  0 10  0  1 -1 -1  0  1 -1]\n",
            " [-1  0 -1 -1  0 -1  0 -1  1 -1  0 -1  1 -1  1  0  1  1 -1 -1]\n",
            " [ 0  0  1  1  0  2  0  0  1  1  0  0 -1  1  0 -1  0 -1  0 -1]\n",
            " [ 0 -1 -1 -1  0 -1  1 -1  0 -1  0 -1  1 -1 -1  0 -1 -1  0  0]\n",
            " [-1  1  0  0  0  0  1  1 -1  1  1  0  0  0  1  0  0  0  0 -1]\n",
            " [ 0 -1  0 -1  0 -1  0  0 -1 -1  0 -1 -1  0 -1  0 -1 -1  1  0]\n",
            " [ 0  0  0  0  0  0  0  0  0  0  0  0  0  0  0  0  0  0  0  0]\n",
            " [-1  0 -1  1  0 -1  0 -1 -1 -1  0  0  0 -1  1  1 -1  0  1 -1]\n",
            " [-1  1 -1 -1 -1  1  1  0  0  0  1 -1  0 -1  0 -1  0  0 -1  1]\n",
            " [ 0  0  0  0  0 -1  0 -1 -1  0 -1  0  1 -1  0  1 -1  0  1  1]]\n",
            "Alien moves from f(9, 15) to (9, 14)\n",
            "\n",
            " \n",
            " \n",
            " \n",
            "\n",
            "[[ 0 -1  0 -1  0  0  1  1  0  1  0  0 -1  0 -1 -1  0  1  1  1]\n",
            " [ 0  0  0  0  0  0  0  0  0  0  0  0  0  0  0  0  0  0  0  0]\n",
            " [ 1  0  0 -1  0 -1  0  0  0 -1 -1  0  0 -1  0 -1  0 -1  0  1]\n",
            " [-1  1  0  0  0  0 -1 -1  1  0  0 -1  1  0  0  0  0  1  0 -1]\n",
            " [ 1 -1  0 -1  1 -1  0  0 -1  0 -1  0  0 -1  0 -1 -1 -1  0 -1]\n",
            " [ 0 -1  1  0 -1 -1 -1  0 -1  0  0  1 -1  0 -1  1  0  0 -1  0]\n",
            " [ 0  0  0  1  1 -1  0  0  1 -1  0 -1  0  0 -1 -1  1 -1  0  0]\n",
            " [-1  1 -1  0  0 -1 -1  0 -1  0  1 -1  1 -1  1  1  0  0 -1  0]\n",
            " [ 0  0  1  0 -1  0  1  1  0 -1  0  0  0  0 -1  0 -1  0  0  1]\n",
            " [-1  0 -1 -1 -1 -1  0 -1  0 -1 -1  1  1 -1  1  0  1 -1 -1  1]\n",
            " [ 1  0  1  1 -1  1  0  1 -1  1  1  0 10  0  1 -1 -1  0  1 -1]\n",
            " [-1  0 -1 -1  0 -1  0 -1  1 -1  0 -1  1 -1  1  0  1  1 -1 -1]\n",
            " [ 0  0  1  1  0  0  2  0  1  1  0  0 -1  1  0 -1  0 -1  0 -1]\n",
            " [ 0 -1 -1 -1  0 -1  1 -1  0 -1  0 -1  1 -1 -1  0 -1 -1  0  0]\n",
            " [-1  1  0  0  0  0  1  1 -1  1  1  0  0  0  1  0  0  0  0 -1]\n",
            " [ 0 -1  0 -1  0 -1  0  0 -1 -1  0 -1 -1  0 -1  0 -1 -1  1  0]\n",
            " [ 0  0  0  0  0  0  0  0  0  0  0  0  0  0  0  0  0  0  0  0]\n",
            " [-1  0 -1  1  0 -1  0 -1 -1 -1  0  0  0 -1  1  1 -1  0  1 -1]\n",
            " [-1  1 -1 -1 -1  1  1  0  0  0  1 -1  0 -1  0 -1  0  0 -1  1]\n",
            " [ 0  0  0  0  0 -1  0 -1 -1  0 -1  0  1 -1  0  1 -1  0  1  1]]\n",
            "Alien moves from f(5, 2) to (4, 2)\n",
            "\n",
            " \n",
            " \n",
            " \n",
            "\n",
            "[[ 0 -1  0 -1  0  0  1  1  0  1  0  0 -1  0 -1 -1  0  1  1  1]\n",
            " [ 0  0  0  0  0  0  0  0  0  0  0  0  0  0  0  0  0  0  0  0]\n",
            " [ 1  0  0 -1  0 -1  0  0  0 -1 -1  0  0 -1  0 -1  0 -1  0  1]\n",
            " [-1  1  0  0  0  0 -1 -1  1  0  0 -1  1  0  0  0  0  1  0 -1]\n",
            " [ 1 -1  1 -1  1 -1  0  0 -1  0 -1  0  0 -1  0 -1 -1 -1  0 -1]\n",
            " [ 0 -1  0  0 -1 -1 -1  0 -1  0  0  1 -1  0 -1  1  0  0 -1  0]\n",
            " [ 0  0  0  1  1 -1  0  0  1 -1  0 -1  0  0 -1 -1  1 -1  0  0]\n",
            " [-1  1 -1  0  0 -1 -1  0 -1  0  1 -1  1 -1  1  1  0  0 -1  0]\n",
            " [ 0  0  1  0 -1  0  1  1  0 -1  0  0  0  0 -1  0 -1  0  0  1]\n",
            " [-1  0 -1 -1 -1 -1  0 -1  0 -1 -1  1  1 -1  1  0  1 -1 -1  1]\n",
            " [ 1  0  1  1 -1  1  0  1 -1  1  1  0 10  0  1 -1 -1  0  1 -1]\n",
            " [-1  0 -1 -1  0 -1  0 -1  1 -1  0 -1  1 -1  1  0  1  1 -1 -1]\n",
            " [ 0  0  1  1  0  0  0  2  1  1  0  0 -1  1  0 -1  0 -1  0 -1]\n",
            " [ 0 -1 -1 -1  0 -1  1 -1  0 -1  0 -1  1 -1 -1  0 -1 -1  0  0]\n",
            " [-1  1  0  0  0  0  1  1 -1  1  1  0  0  0  1  0  0  0  0 -1]\n",
            " [ 0 -1  0 -1  0 -1  0  0 -1 -1  0 -1 -1  0 -1  0 -1 -1  1  0]\n",
            " [ 0  0  0  0  0  0  0  0  0  0  0  0  0  0  0  0  0  0  0  0]\n",
            " [-1  0 -1  1  0 -1  0 -1 -1 -1  0  0  0 -1  1  1 -1  0  1 -1]\n",
            " [-1  1 -1 -1 -1  1  1  0  0  0  1 -1  0 -1  0 -1  0  0 -1  1]\n",
            " [ 0  0  0  0  0 -1  0 -1 -1  0 -1  0  1 -1  0  1 -1  0  1  1]]\n",
            "Alien moves from f(12, 9) to (12, 10)\n",
            "\n",
            " \n",
            " \n",
            " \n",
            "\n",
            "[[ 0 -1  0 -1  0  0  1  1  0  1  0  0 -1  0 -1 -1  0  1  1  1]\n",
            " [ 0  0  0  0  0  0  0  0  0  0  0  0  0  0  0  0  0  0  0  0]\n",
            " [ 1  0  0 -1  0 -1  0  0  0 -1 -1  0  0 -1  0 -1  0 -1  0  1]\n",
            " [-1  1  0  0  0  0 -1 -1  1  0  0 -1  1  0  0  0  0  1  0 -1]\n",
            " [ 1 -1  1 -1  1 -1  0  0 -1  0 -1  0  0 -1  0 -1 -1 -1  0 -1]\n",
            " [ 0 -1  0  0 -1 -1 -1  0 -1  0  0  1 -1  0 -1  1  0  0 -1  0]\n",
            " [ 0  0  0  1  1 -1  0  0  1 -1  0 -1  0  0 -1 -1  1 -1  0  0]\n",
            " [-1  1 -1  0  0 -1 -1  0 -1  0  1 -1  1 -1  1  1  0  0 -1  0]\n",
            " [ 0  0  1  0 -1  0  1  1  0 -1  0  0  0  0 -1  0 -1  0  0  1]\n",
            " [-1  0 -1 -1 -1 -1  0 -1  0 -1 -1  1  1 -1  1  0  1 -1 -1  1]\n",
            " [ 1  0  1  1 -1  1  0  1 -1  1  1  0 10  0  1 -1 -1  0  1 -1]\n",
            " [-1  0 -1 -1  0 -1  0 -1  1 -1  0 -1  1 -1  1  0  1  1 -1 -1]\n",
            " [ 0  0  1  1  0  0  0  0  2  0  1  0 -1  1  0 -1  0 -1  0 -1]\n",
            " [ 0 -1 -1 -1  0 -1  1 -1  0 -1  0 -1  1 -1 -1  0 -1 -1  0  0]\n",
            " [-1  1  0  0  0  0  1  1 -1  1  1  0  0  0  1  0  0  0  0 -1]\n",
            " [ 0 -1  0 -1  0 -1  0  0 -1 -1  0 -1 -1  0 -1  0 -1 -1  1  0]\n",
            " [ 0  0  0  0  0  0  0  0  0  0  0  0  0  0  0  0  0  0  0  0]\n",
            " [-1  0 -1  1  0 -1  0 -1 -1 -1  0  0  0 -1  1  1 -1  0  1 -1]\n",
            " [-1  1 -1 -1 -1  1  1  0  0  0  1 -1  0 -1  0 -1  0  0 -1  1]\n",
            " [ 0  0  0  0  0 -1  0 -1 -1  0 -1  0  1 -1  0  1 -1  0  1  1]]\n",
            "Alien moves from f(5, 11) to (6, 11)\n",
            "\n",
            " \n",
            " \n",
            " \n",
            "\n",
            "[[ 0 -1  0 -1  0  0  1  1  0  1  0  0 -1  0 -1 -1  0  1  1  1]\n",
            " [ 0  0  0  0  0  0  0  0  0  0  0  0  0  0  0  0  0  0  0  0]\n",
            " [ 1  0  0 -1  0 -1  0  0  0 -1 -1  0  0 -1  0 -1  0 -1  0  1]\n",
            " [-1  1  0  0  0  0 -1 -1  1  0  0 -1  1  0  0  0  0  1  0 -1]\n",
            " [ 1 -1  1 -1  1 -1  0  0 -1  0 -1  0  0 -1  0 -1 -1 -1  0 -1]\n",
            " [ 0 -1  0  0 -1 -1 -1  0 -1  0  0  0 -1  0 -1  1  0  0 -1  0]\n",
            " [ 0  0  0  1  1 -1  0  0  1 -1  0  1  0  0 -1 -1  1 -1  0  0]\n",
            " [-1  1 -1  0  0 -1 -1  0 -1  0  1 -1  1 -1  1  1  0  0 -1  0]\n",
            " [ 0  0  1  0 -1  0  1  1  0 -1  0  0  0  0 -1  0 -1  0  0  1]\n",
            " [-1  0 -1 -1 -1 -1  0 -1  0 -1 -1  1  1 -1  1  0  1 -1 -1  1]\n",
            " [ 1  0  1  1 -1  1  0  1 -1  1  1  0 10  0  1 -1 -1  0  1 -1]\n",
            " [-1  0 -1 -1  0 -1  0 -1  1 -1  0 -1  1 -1  1  0  1  1 -1 -1]\n",
            " [ 0  0  1  1  0  0  0  0  0  2  1  0 -1  1  0 -1  0 -1  0 -1]\n",
            " [ 0 -1 -1 -1  0 -1  1 -1  0 -1  0 -1  1 -1 -1  0 -1 -1  0  0]\n",
            " [-1  1  0  0  0  0  1  1 -1  1  1  0  0  0  1  0  0  0  0 -1]\n",
            " [ 0 -1  0 -1  0 -1  0  0 -1 -1  0 -1 -1  0 -1  0 -1 -1  1  0]\n",
            " [ 0  0  0  0  0  0  0  0  0  0  0  0  0  0  0  0  0  0  0  0]\n",
            " [-1  0 -1  1  0 -1  0 -1 -1 -1  0  0  0 -1  1  1 -1  0  1 -1]\n",
            " [-1  1 -1 -1 -1  1  1  0  0  0  1 -1  0 -1  0 -1  0  0 -1  1]\n",
            " [ 0  0  0  0  0 -1  0 -1 -1  0 -1  0  1 -1  0  1 -1  0  1  1]]\n",
            "Alien moves from f(12, 8) to (12, 7)\n",
            "\n",
            " \n",
            " \n",
            " \n",
            "\n",
            "[[ 0 -1  0 -1  0  0  1  1  0  1  0  0 -1  0 -1 -1  0  1  1  1]\n",
            " [ 0  0  0  0  0  0  0  0  0  0  0  0  0  0  0  0  0  0  0  0]\n",
            " [ 1  0  0 -1  0 -1  0  0  0 -1 -1  0  0 -1  0 -1  0 -1  0  1]\n",
            " [-1  1  0  0  0  0 -1 -1  1  0  0 -1  1  0  0  0  0  1  0 -1]\n",
            " [ 1 -1  1 -1  1 -1  0  0 -1  0 -1  0  0 -1  0 -1 -1 -1  0 -1]\n",
            " [ 0 -1  0  0 -1 -1 -1  0 -1  0  0  0 -1  0 -1  1  0  0 -1  0]\n",
            " [ 0  0  0  1  1 -1  0  0  1 -1  0  1  0  0 -1 -1  1 -1  0  0]\n",
            " [-1  1 -1  0  0 -1 -1  0 -1  0  1 -1  1 -1  1  1  0  0 -1  0]\n",
            " [ 0  0  1  0 -1  0  1  1  0 -1  0  0  0  0 -1  0 -1  0  0  1]\n",
            " [-1  0 -1 -1 -1 -1  0 -1  0 -1 -1  1  1 -1  1  0  1 -1 -1  1]\n",
            " [ 1  0  1  1 -1  1  0  1 -1  1  1  0 10  0  1 -1 -1  0  1 -1]\n",
            " [-1  0 -1 -1  0 -1  0 -1  1 -1  0 -1  1 -1  1  0  1  1 -1 -1]\n",
            " [ 0  0  1  1  0  0  0  1  0  0  2  0 -1  1  0 -1  0 -1  0 -1]\n",
            " [ 0 -1 -1 -1  0 -1  1 -1  0 -1  0 -1  1 -1 -1  0 -1 -1  0  0]\n",
            " [-1  1  0  0  0  0  1  1 -1  1  1  0  0  0  1  0  0  0  0 -1]\n",
            " [ 0 -1  0 -1  0 -1  0  0 -1 -1  0 -1 -1  0 -1  0 -1 -1  1  0]\n",
            " [ 0  0  0  0  0  0  0  0  0  0  0  0  0  0  0  0  0  0  0  0]\n",
            " [-1  0 -1  1  0 -1  0 -1 -1 -1  0  0  0 -1  1  1 -1  0  1 -1]\n",
            " [-1  1 -1 -1 -1  1  1  0  0  0  1 -1  0 -1  0 -1  0  0 -1  1]\n",
            " [ 0  0  0  0  0 -1  0 -1 -1  0 -1  0  1 -1  0  1 -1  0  1  1]]\n",
            "Alien moves from f(8, 6) to (8, 7)\n",
            "\n",
            " \n",
            " \n",
            " \n",
            "\n",
            "[[ 0 -1  0 -1  0  0  1  1  0  1  0  0 -1  0 -1 -1  0  1  1  1]\n",
            " [ 0  0  0  0  0  0  0  0  0  0  0  0  0  0  0  0  0  0  0  0]\n",
            " [ 1  0  0 -1  0 -1  0  0  0 -1 -1  0  0 -1  0 -1  0 -1  0  1]\n",
            " [-1  1  0  0  0  0 -1 -1  1  0  0 -1  1  0  0  0  0  1  0 -1]\n",
            " [ 1 -1  1 -1  1 -1  0  0 -1  0 -1  0  0 -1  0 -1 -1 -1  0 -1]\n",
            " [ 0 -1  0  0 -1 -1 -1  0 -1  0  0  0 -1  0 -1  1  0  0 -1  0]\n",
            " [ 0  0  0  1  1 -1  0  0  1 -1  0  1  0  0 -1 -1  1 -1  0  0]\n",
            " [-1  1 -1  0  0 -1 -1  0 -1  0  1 -1  1 -1  1  1  0  0 -1  0]\n",
            " [ 0  0  1  0 -1  0  0  1  0 -1  0  0  0  0 -1  0 -1  0  0  1]\n",
            " [-1  0 -1 -1 -1 -1  0 -1  0 -1 -1  1  1 -1  1  0  1 -1 -1  1]\n",
            " [ 1  0  1  1 -1  1  0  1 -1  1  1  0 10  0  1 -1 -1  0  1 -1]\n",
            " [-1  0 -1 -1  0 -1  0 -1  1 -1  2 -1  1 -1  1  0  1  1 -1 -1]\n",
            " [ 0  0  1  1  0  0  0  1  0  0  0  0 -1  1  0 -1  0 -1  0 -1]\n",
            " [ 0 -1 -1 -1  0 -1  1 -1  0 -1  0 -1  1 -1 -1  0 -1 -1  0  0]\n",
            " [-1  1  0  0  0  0  1  1 -1  1  1  0  0  0  1  0  0  0  0 -1]\n",
            " [ 0 -1  0 -1  0 -1  0  0 -1 -1  0 -1 -1  0 -1  0 -1 -1  1  0]\n",
            " [ 0  0  0  0  0  0  0  0  0  0  0  0  0  0  0  0  0  0  0  0]\n",
            " [-1  0 -1  1  0 -1  0 -1 -1 -1  0  0  0 -1  1  1 -1  0  1 -1]\n",
            " [-1  1 -1 -1 -1  1  1  0  0  0  1 -1  0 -1  0 -1  0  0 -1  1]\n",
            " [ 0  0  0  0  0 -1  0 -1 -1  0 -1  0  1 -1  0  1 -1  0  1  1]]\n",
            "Alien moves from f(12, 10) to (12, 9)\n",
            "\n",
            " \n",
            " \n",
            " \n",
            "\n",
            "[[ 0 -1  0 -1  0  0  1  1  0  1  0  0 -1  0 -1 -1  0  1  1  1]\n",
            " [ 0  0  0  0  0  0  0  0  0  0  0  0  0  0  0  0  0  0  0  0]\n",
            " [ 1  0  0 -1  0 -1  0  0  0 -1 -1  0  0 -1  0 -1  0 -1  0  1]\n",
            " [-1  1  0  0  0  0 -1 -1  1  0  0 -1  1  0  0  0  0  1  0 -1]\n",
            " [ 1 -1  1 -1  1 -1  0  0 -1  0 -1  0  0 -1  0 -1 -1 -1  0 -1]\n",
            " [ 0 -1  0  0 -1 -1 -1  0 -1  0  0  0 -1  0 -1  1  0  0 -1  0]\n",
            " [ 0  0  0  1  1 -1  0  0  1 -1  0  1  0  0 -1 -1  1 -1  0  0]\n",
            " [-1  1 -1  0  0 -1 -1  0 -1  0  1 -1  1 -1  1  1  0  0 -1  0]\n",
            " [ 0  0  1  0 -1  0  0  1  0 -1  0  0  0  0 -1  0 -1  0  0  1]\n",
            " [-1  0 -1 -1 -1 -1  0 -1  0 -1 -1  1  1 -1  1  0  1 -1 -1  1]\n",
            " [ 1  0  1  1 -1  1  0  1 -1  1  2  0 10  0  1 -1 -1  0  1 -1]\n",
            " [-1  0 -1 -1  0 -1  0 -1  1 -1  0 -1  1 -1  1  0  1  1 -1 -1]\n",
            " [ 0  0  1  1  0  0  0  1  0  1  0  0 -1  1  0 -1  0 -1  0 -1]\n",
            " [ 0 -1 -1 -1  0 -1  1 -1  0 -1  0 -1  1 -1 -1  0 -1 -1  0  0]\n",
            " [-1  1  0  0  0  0  1  1 -1  1  1  0  0  0  1  0  0  0  0 -1]\n",
            " [ 0 -1  0 -1  0 -1  0  0 -1 -1  0 -1 -1  0 -1  0 -1 -1  1  0]\n",
            " [ 0  0  0  0  0  0  0  0  0  0  0  0  0  0  0  0  0  0  0  0]\n",
            " [-1  0 -1  1  0 -1  0 -1 -1 -1  0  0  0 -1  1  1 -1  0  1 -1]\n",
            " [-1  1 -1 -1 -1  1  1  0  0  0  1 -1  0 -1  0 -1  0  0 -1  1]\n",
            " [ 0  0  0  0  0 -1  0 -1 -1  0 -1  0  1 -1  0  1 -1  0  1  1]]\n",
            "Alien moves from f(1, 19) to (0, 19)\n",
            "\n",
            " \n",
            " \n",
            " \n",
            "\n",
            "[[ 0 -1  0 -1  0  0  1  1  0  1  0  0 -1  0 -1 -1  0  1  1  1]\n",
            " [ 0  0  0  0  0  0  0  0  0  0  0  0  0  0  0  0  0  0  0  0]\n",
            " [ 1  0  0 -1  0 -1  0  0  0 -1 -1  0  0 -1  0 -1  0 -1  0  1]\n",
            " [-1  1  0  0  0  0 -1 -1  1  0  0 -1  1  0  0  0  0  1  0 -1]\n",
            " [ 1 -1  1 -1  1 -1  0  0 -1  0 -1  0  0 -1  0 -1 -1 -1  0 -1]\n",
            " [ 0 -1  0  0 -1 -1 -1  0 -1  0  0  0 -1  0 -1  1  0  0 -1  0]\n",
            " [ 0  0  0  1  1 -1  0  0  1 -1  0  1  0  0 -1 -1  1 -1  0  0]\n",
            " [-1  1 -1  0  0 -1 -1  0 -1  0  1 -1  1 -1  1  1  0  0 -1  0]\n",
            " [ 0  0  1  0 -1  0  0  1  0 -1  0  0  0  0 -1  0 -1  0  0  1]\n",
            " [-1  0 -1 -1 -1 -1  0 -1  0 -1 -1  1  1 -1  1  0  1 -1 -1  1]\n",
            " [ 1  0  1  1 -1  1  0  1 -1  1  0  2 10  0  1 -1 -1  0  1 -1]\n",
            " [-1  0 -1 -1  0 -1  0 -1  1 -1  0 -1  1 -1  1  0  1  1 -1 -1]\n",
            " [ 0  0  1  1  0  0  0  1  0  1  0  0 -1  1  0 -1  0 -1  0 -1]\n",
            " [ 0 -1 -1 -1  0 -1  1 -1  0 -1  0 -1  1 -1 -1  0 -1 -1  0  0]\n",
            " [-1  1  0  0  0  0  1  1 -1  1  1  0  0  0  1  0  0  0  0 -1]\n",
            " [ 0 -1  0 -1  0 -1  0  0 -1 -1  0 -1 -1  0 -1  0 -1 -1  1  0]\n",
            " [ 0  0  0  0  0  0  0  0  0  0  0  0  0  0  0  0  0  0  0  0]\n",
            " [-1  0 -1  1  0 -1  0 -1 -1 -1  0  0  0 -1  1  1 -1  0  1 -1]\n",
            " [-1  1 -1 -1 -1  1  1  0  0  0  1 -1  0 -1  0 -1  0  0 -1  1]\n",
            " [ 0  0  0  0  0 -1  0 -1 -1  0 -1  0  1 -1  0  1 -1  0  1  1]]\n",
            "GOAL REACHED\n",
            "[(16, 1), (16, 1), (16, 2), (15, 2), (14, 2), (14, 3), (14, 4), (13, 4), (12, 4), (12, 5), (12, 6), (12, 7), (12, 8), (12, 9), (12, 10), (11, 10), (10, 10), (10, 11)]\n",
            "no of steps taken = 18\n"
          ]
        }
      ]
    },
    {
      "cell_type": "code",
      "source": [],
      "metadata": {
        "id": "Gd09q_kqxsNM"
      },
      "execution_count": 2,
      "outputs": []
    },
    {
      "cell_type": "code",
      "source": [],
      "metadata": {
        "colab": {
          "base_uri": "https://localhost:8080/",
          "height": 638
        },
        "id": "8kVmg9o3ht5d",
        "outputId": "1e577c1e-27ab-4063-8eb9-5ecf29e08f6d"
      },
      "execution_count": 4,
      "outputs": [
        {
          "output_type": "stream",
          "name": "stdout",
          "text": [
            "Start = 1 2\n",
            "(0, 0)\n",
            "(4, 1)\n",
            "(1, 4)\n",
            "(3, 2)\n",
            "(0, 4)\n",
            "(0, 3)\n",
            "(0, 2)\n",
            "(4, 0)\n",
            "(1, 0)\n",
            "(2, 0)\n",
            "(3, 1)\n",
            "(1, 2)\n",
            "(2, 3)\n",
            "(1, 1)\n",
            "(2, 2)\n"
          ]
        },
        {
          "output_type": "error",
          "ename": "IndexError",
          "evalue": "list index out of range",
          "traceback": [
            "\u001b[0;31m---------------------------------------------------------------------------\u001b[0m",
            "\u001b[0;31mIndexError\u001b[0m                                Traceback (most recent call last)",
            "\u001b[0;32m<ipython-input-4-a4a58478c30d>\u001b[0m in \u001b[0;36m<cell line: 1>\u001b[0;34m()\u001b[0m\n\u001b[0;32m----> 1\u001b[0;31m \u001b[0mgrid2\u001b[0m \u001b[0;34m=\u001b[0m  \u001b[0mGridGenerator\u001b[0m\u001b[0;34m(\u001b[0m\u001b[0;36m5\u001b[0m\u001b[0;34m)\u001b[0m\u001b[0;34m\u001b[0m\u001b[0;34m\u001b[0m\u001b[0m\n\u001b[0m\u001b[1;32m      2\u001b[0m \u001b[0mgrid1\u001b[0m\u001b[0;34m.\u001b[0m\u001b[0mshow_grid\u001b[0m\u001b[0;34m(\u001b[0m\u001b[0;34m)\u001b[0m\u001b[0;34m\u001b[0m\u001b[0;34m\u001b[0m\u001b[0m\n",
            "\u001b[0;32m<ipython-input-2-7ea494c6c241>\u001b[0m in \u001b[0;36m__init__\u001b[0;34m(self, n)\u001b[0m\n\u001b[1;32m      2\u001b[0m     \u001b[0;32mdef\u001b[0m \u001b[0m__init__\u001b[0m\u001b[0;34m(\u001b[0m\u001b[0mself\u001b[0m\u001b[0;34m,\u001b[0m \u001b[0mn\u001b[0m\u001b[0;34m)\u001b[0m\u001b[0;34m:\u001b[0m\u001b[0;34m\u001b[0m\u001b[0;34m\u001b[0m\u001b[0m\n\u001b[1;32m      3\u001b[0m         \u001b[0mself\u001b[0m\u001b[0;34m.\u001b[0m\u001b[0mgrid\u001b[0m \u001b[0;34m=\u001b[0m \u001b[0mnp\u001b[0m\u001b[0;34m.\u001b[0m\u001b[0mfull\u001b[0m\u001b[0;34m(\u001b[0m\u001b[0;34m(\u001b[0m\u001b[0mn\u001b[0m\u001b[0;34m,\u001b[0m \u001b[0mn\u001b[0m\u001b[0;34m)\u001b[0m\u001b[0;34m,\u001b[0m \u001b[0;34m-\u001b[0m\u001b[0;36m1\u001b[0m\u001b[0;34m)\u001b[0m\u001b[0;34m\u001b[0m\u001b[0;34m\u001b[0m\u001b[0m\n\u001b[0;32m----> 4\u001b[0;31m         \u001b[0mself\u001b[0m\u001b[0;34m.\u001b[0m\u001b[0m_generate_full_grid\u001b[0m\u001b[0;34m(\u001b[0m\u001b[0;34m)\u001b[0m\u001b[0;34m\u001b[0m\u001b[0;34m\u001b[0m\u001b[0m\n\u001b[0m\u001b[1;32m      5\u001b[0m \u001b[0;34m\u001b[0m\u001b[0m\n\u001b[1;32m      6\u001b[0m     \u001b[0;32mdef\u001b[0m \u001b[0m_generate_full_grid\u001b[0m\u001b[0;34m(\u001b[0m\u001b[0mself\u001b[0m\u001b[0;34m)\u001b[0m\u001b[0;34m:\u001b[0m\u001b[0;34m\u001b[0m\u001b[0;34m\u001b[0m\u001b[0m\n",
            "\u001b[0;32m<ipython-input-2-7ea494c6c241>\u001b[0m in \u001b[0;36m_generate_full_grid\u001b[0;34m(self)\u001b[0m\n\u001b[1;32m      8\u001b[0m         \u001b[0mself\u001b[0m\u001b[0;34m.\u001b[0m\u001b[0m_set_random_start\u001b[0m\u001b[0;34m(\u001b[0m\u001b[0;34m)\u001b[0m\u001b[0;34m\u001b[0m\u001b[0;34m\u001b[0m\u001b[0m\n\u001b[1;32m      9\u001b[0m         \u001b[0mself\u001b[0m\u001b[0;34m.\u001b[0m\u001b[0m_open_connected_cells\u001b[0m\u001b[0;34m(\u001b[0m\u001b[0;34m)\u001b[0m\u001b[0;34m\u001b[0m\u001b[0;34m\u001b[0m\u001b[0m\n\u001b[0;32m---> 10\u001b[0;31m         \u001b[0mself\u001b[0m\u001b[0;34m.\u001b[0m\u001b[0m_place_alien_cells\u001b[0m\u001b[0;34m(\u001b[0m\u001b[0;36m90\u001b[0m\u001b[0;34m)\u001b[0m  \u001b[0;31m# Place 90 alien cells\u001b[0m\u001b[0;34m\u001b[0m\u001b[0;34m\u001b[0m\u001b[0m\n\u001b[0m\u001b[1;32m     11\u001b[0m         \u001b[0mself\u001b[0m\u001b[0;34m.\u001b[0m\u001b[0m_set_random_goal\u001b[0m\u001b[0;34m(\u001b[0m\u001b[0;34m)\u001b[0m\u001b[0;34m\u001b[0m\u001b[0;34m\u001b[0m\u001b[0m\n\u001b[1;32m     12\u001b[0m         \u001b[0mself\u001b[0m\u001b[0;34m.\u001b[0m\u001b[0m_set_random_start\u001b[0m\u001b[0;34m(\u001b[0m\u001b[0mexclude_goal\u001b[0m\u001b[0;34m=\u001b[0m\u001b[0;32mTrue\u001b[0m\u001b[0;34m)\u001b[0m  \u001b[0;31m# Set start after goal placement\u001b[0m\u001b[0;34m\u001b[0m\u001b[0;34m\u001b[0m\u001b[0m\n",
            "\u001b[0;32m<ipython-input-2-7ea494c6c241>\u001b[0m in \u001b[0;36m_place_alien_cells\u001b[0;34m(self, num_aliens)\u001b[0m\n\u001b[1;32m     52\u001b[0m                        if self.grid[i, j] == 0]\n\u001b[1;32m     53\u001b[0m         \u001b[0;32mfor\u001b[0m \u001b[0m_\u001b[0m \u001b[0;32min\u001b[0m \u001b[0mrange\u001b[0m\u001b[0;34m(\u001b[0m\u001b[0mnum_aliens\u001b[0m\u001b[0;34m)\u001b[0m\u001b[0;34m:\u001b[0m\u001b[0;34m\u001b[0m\u001b[0;34m\u001b[0m\u001b[0m\n\u001b[0;32m---> 54\u001b[0;31m             \u001b[0mr\u001b[0m \u001b[0;34m=\u001b[0m \u001b[0mrandom\u001b[0m\u001b[0;34m.\u001b[0m\u001b[0mchoice\u001b[0m\u001b[0;34m(\u001b[0m\u001b[0mopen_cells\u001b[0m\u001b[0;34m)\u001b[0m\u001b[0;34m\u001b[0m\u001b[0;34m\u001b[0m\u001b[0m\n\u001b[0m\u001b[1;32m     55\u001b[0m             \u001b[0mprint\u001b[0m\u001b[0;34m(\u001b[0m\u001b[0mr\u001b[0m\u001b[0;34m)\u001b[0m\u001b[0;34m\u001b[0m\u001b[0;34m\u001b[0m\u001b[0m\n\u001b[1;32m     56\u001b[0m             \u001b[0mself\u001b[0m\u001b[0;34m.\u001b[0m\u001b[0mgrid\u001b[0m\u001b[0;34m[\u001b[0m\u001b[0mr\u001b[0m\u001b[0;34m]\u001b[0m \u001b[0;34m=\u001b[0m \u001b[0;36m1\u001b[0m\u001b[0;34m\u001b[0m\u001b[0;34m\u001b[0m\u001b[0m\n",
            "\u001b[0;32m/usr/lib/python3.10/random.py\u001b[0m in \u001b[0;36mchoice\u001b[0;34m(self, seq)\u001b[0m\n\u001b[1;32m    376\u001b[0m         \u001b[0;34m\"\"\"Choose a random element from a non-empty sequence.\"\"\"\u001b[0m\u001b[0;34m\u001b[0m\u001b[0;34m\u001b[0m\u001b[0m\n\u001b[1;32m    377\u001b[0m         \u001b[0;31m# raises IndexError if seq is empty\u001b[0m\u001b[0;34m\u001b[0m\u001b[0;34m\u001b[0m\u001b[0m\n\u001b[0;32m--> 378\u001b[0;31m         \u001b[0;32mreturn\u001b[0m \u001b[0mseq\u001b[0m\u001b[0;34m[\u001b[0m\u001b[0mself\u001b[0m\u001b[0;34m.\u001b[0m\u001b[0m_randbelow\u001b[0m\u001b[0;34m(\u001b[0m\u001b[0mlen\u001b[0m\u001b[0;34m(\u001b[0m\u001b[0mseq\u001b[0m\u001b[0;34m)\u001b[0m\u001b[0;34m)\u001b[0m\u001b[0;34m]\u001b[0m\u001b[0;34m\u001b[0m\u001b[0;34m\u001b[0m\u001b[0m\n\u001b[0m\u001b[1;32m    379\u001b[0m \u001b[0;34m\u001b[0m\u001b[0m\n\u001b[1;32m    380\u001b[0m     \u001b[0;32mdef\u001b[0m \u001b[0mshuffle\u001b[0m\u001b[0;34m(\u001b[0m\u001b[0mself\u001b[0m\u001b[0;34m,\u001b[0m \u001b[0mx\u001b[0m\u001b[0;34m,\u001b[0m \u001b[0mrandom\u001b[0m\u001b[0;34m=\u001b[0m\u001b[0;32mNone\u001b[0m\u001b[0;34m)\u001b[0m\u001b[0;34m:\u001b[0m\u001b[0;34m\u001b[0m\u001b[0;34m\u001b[0m\u001b[0m\n",
            "\u001b[0;31mIndexError\u001b[0m: list index out of range"
          ]
        }
      ]
    }
  ]
}