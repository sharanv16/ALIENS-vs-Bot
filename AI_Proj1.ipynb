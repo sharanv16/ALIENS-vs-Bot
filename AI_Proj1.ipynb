{
  "nbformat": 4,
  "nbformat_minor": 0,
  "metadata": {
    "colab": {
      "provenance": [],
      "toc_visible": true,
      "authorship_tag": "ABX9TyOQ1Hix+Kzwae41so934aF2",
      "include_colab_link": true
    },
    "kernelspec": {
      "name": "python3",
      "display_name": "Python 3"
    },
    "language_info": {
      "name": "python"
    }
  },
  "cells": [
    {
      "cell_type": "markdown",
      "metadata": {
        "id": "view-in-github",
        "colab_type": "text"
      },
      "source": [
        "<a href=\"https://colab.research.google.com/github/sharanv16/ALIENS-vs-Bot/blob/main/AI_Proj1.ipynb\" target=\"_parent\"><img src=\"https://colab.research.google.com/assets/colab-badge.svg\" alt=\"Open In Colab\"/></a>"
      ]
    },
    {
      "cell_type": "markdown",
      "source": [
        "Forming the Grid"
      ],
      "metadata": {
        "id": "VkTnVLn1Fl5U"
      }
    },
    {
      "cell_type": "code",
      "source": [
        "import random\n",
        "import numpy as np"
      ],
      "metadata": {
        "id": "8nzWA3dVFrTR"
      },
      "execution_count": null,
      "outputs": []
    },
    {
      "cell_type": "markdown",
      "source": [
        "# CREATE A SQUARE GRID"
      ],
      "metadata": {
        "id": "oMrSbrC6H1S7"
      }
    },
    {
      "cell_type": "markdown",
      "source": [
        "create a closed square grid\n",
        "\n",
        "*   0 implies closed cell\n",
        "*   -1 implies open cell\n",
        "*   1 implies alien\n",
        "*   10 implies captain\n",
        "*   2 implies bot\n"
      ],
      "metadata": {
        "id": "Ksa_8ctzH7vG"
      }
    },
    {
      "cell_type": "code",
      "source": [
        "def create_grid(n):\n",
        "  grid = np.full((n, n), -1)\n",
        "  return grid"
      ],
      "metadata": {
        "id": "IIyBoFsXGJuU"
      },
      "execution_count": null,
      "outputs": []
    },
    {
      "cell_type": "code",
      "source": [
        "D =20\n",
        "grid =create_grid(D)\n",
        "print(grid)"
      ],
      "metadata": {
        "colab": {
          "base_uri": "https://localhost:8080/"
        },
        "id": "bo8QykjsHLcF",
        "outputId": "3ed9ffca-2760-4531-8fb3-ddab46785837"
      },
      "execution_count": null,
      "outputs": [
        {
          "output_type": "stream",
          "name": "stdout",
          "text": [
            "[[-1 -1 -1 -1 -1 -1 -1 -1 -1 -1 -1 -1 -1 -1 -1 -1 -1 -1 -1 -1]\n",
            " [-1 -1 -1 -1 -1 -1 -1 -1 -1 -1 -1 -1 -1 -1 -1 -1 -1 -1 -1 -1]\n",
            " [-1 -1 -1 -1 -1 -1 -1 -1 -1 -1 -1 -1 -1 -1 -1 -1 -1 -1 -1 -1]\n",
            " [-1 -1 -1 -1 -1 -1 -1 -1 -1 -1 -1 -1 -1 -1 -1 -1 -1 -1 -1 -1]\n",
            " [-1 -1 -1 -1 -1 -1 -1 -1 -1 -1 -1 -1 -1 -1 -1 -1 -1 -1 -1 -1]\n",
            " [-1 -1 -1 -1 -1 -1 -1 -1 -1 -1 -1 -1 -1 -1 -1 -1 -1 -1 -1 -1]\n",
            " [-1 -1 -1 -1 -1 -1 -1 -1 -1 -1 -1 -1 -1 -1 -1 -1 -1 -1 -1 -1]\n",
            " [-1 -1 -1 -1 -1 -1 -1 -1 -1 -1 -1 -1 -1 -1 -1 -1 -1 -1 -1 -1]\n",
            " [-1 -1 -1 -1 -1 -1 -1 -1 -1 -1 -1 -1 -1 -1 -1 -1 -1 -1 -1 -1]\n",
            " [-1 -1 -1 -1 -1 -1 -1 -1 -1 -1 -1 -1 -1 -1 -1 -1 -1 -1 -1 -1]\n",
            " [-1 -1 -1 -1 -1 -1 -1 -1 -1 -1 -1 -1 -1 -1 -1 -1 -1 -1 -1 -1]\n",
            " [-1 -1 -1 -1 -1 -1 -1 -1 -1 -1 -1 -1 -1 -1 -1 -1 -1 -1 -1 -1]\n",
            " [-1 -1 -1 -1 -1 -1 -1 -1 -1 -1 -1 -1 -1 -1 -1 -1 -1 -1 -1 -1]\n",
            " [-1 -1 -1 -1 -1 -1 -1 -1 -1 -1 -1 -1 -1 -1 -1 -1 -1 -1 -1 -1]\n",
            " [-1 -1 -1 -1 -1 -1 -1 -1 -1 -1 -1 -1 -1 -1 -1 -1 -1 -1 -1 -1]\n",
            " [-1 -1 -1 -1 -1 -1 -1 -1 -1 -1 -1 -1 -1 -1 -1 -1 -1 -1 -1 -1]\n",
            " [-1 -1 -1 -1 -1 -1 -1 -1 -1 -1 -1 -1 -1 -1 -1 -1 -1 -1 -1 -1]\n",
            " [-1 -1 -1 -1 -1 -1 -1 -1 -1 -1 -1 -1 -1 -1 -1 -1 -1 -1 -1 -1]\n",
            " [-1 -1 -1 -1 -1 -1 -1 -1 -1 -1 -1 -1 -1 -1 -1 -1 -1 -1 -1 -1]\n",
            " [-1 -1 -1 -1 -1 -1 -1 -1 -1 -1 -1 -1 -1 -1 -1 -1 -1 -1 -1 -1]]\n"
          ]
        }
      ]
    },
    {
      "cell_type": "code",
      "source": [],
      "metadata": {
        "id": "xA8IkHY9IyUn"
      },
      "execution_count": null,
      "outputs": []
    },
    {
      "cell_type": "markdown",
      "source": [
        "creating a path in the closed grid"
      ],
      "metadata": {
        "id": "xvjFtbb7Ie-k"
      }
    },
    {
      "cell_type": "code",
      "source": [
        "# assign a random start point\n",
        "x_start =  random.randint(0,D-1)\n",
        "y_start =  random.randint(0,D-1)\n",
        "print(f\" start = {x_start} {y_start}\")\n",
        "grid[x_start,y_start] = 0"
      ],
      "metadata": {
        "colab": {
          "base_uri": "https://localhost:8080/"
        },
        "id": "8xJnwRzcIlzP",
        "outputId": "f79bc3e4-8e92-455e-c36c-10f0db95fe53"
      },
      "execution_count": null,
      "outputs": [
        {
          "output_type": "stream",
          "name": "stdout",
          "text": [
            " start = 1 4\n"
          ]
        }
      ]
    },
    {
      "cell_type": "code",
      "source": [
        "print(grid)"
      ],
      "metadata": {
        "colab": {
          "base_uri": "https://localhost:8080/"
        },
        "id": "dQNS0morLjWP",
        "outputId": "dac8e0f6-5508-410a-9da0-41b2dddab9ce"
      },
      "execution_count": null,
      "outputs": [
        {
          "output_type": "stream",
          "name": "stdout",
          "text": [
            "[[-1 -1 -1 -1 -1 -1 -1 -1 -1 -1 -1 -1 -1 -1 -1 -1 -1 -1 -1 -1]\n",
            " [-1 -1 -1 -1  0 -1 -1 -1 -1 -1 -1 -1 -1 -1 -1 -1 -1 -1 -1 -1]\n",
            " [-1 -1 -1 -1 -1 -1 -1 -1 -1 -1 -1 -1 -1 -1 -1 -1 -1 -1 -1 -1]\n",
            " [-1 -1 -1 -1 -1 -1 -1 -1 -1 -1 -1 -1 -1 -1 -1 -1 -1 -1 -1 -1]\n",
            " [-1 -1 -1 -1 -1 -1 -1 -1 -1 -1 -1 -1 -1 -1 -1 -1 -1 -1 -1 -1]\n",
            " [-1 -1 -1 -1 -1 -1 -1 -1 -1 -1 -1 -1 -1 -1 -1 -1 -1 -1 -1 -1]\n",
            " [-1 -1 -1 -1 -1 -1 -1 -1 -1 -1 -1 -1 -1 -1 -1 -1 -1 -1 -1 -1]\n",
            " [-1 -1 -1 -1 -1 -1 -1 -1 -1 -1 -1 -1 -1 -1 -1 -1 -1 -1 -1 -1]\n",
            " [-1 -1 -1 -1 -1 -1 -1 -1 -1 -1 -1 -1 -1 -1 -1 -1 -1 -1 -1 -1]\n",
            " [-1 -1 -1 -1 -1 -1 -1 -1 -1 -1 -1 -1 -1 -1 -1 -1 -1 -1 -1 -1]\n",
            " [-1 -1 -1 -1 -1 -1 -1 -1 -1 -1 -1 -1 -1 -1 -1 -1 -1 -1 -1 -1]\n",
            " [-1 -1 -1 -1 -1 -1 -1 -1 -1 -1 -1 -1 -1 -1 -1 -1 -1 -1 -1 -1]\n",
            " [-1 -1 -1 -1 -1 -1 -1 -1 -1 -1 -1 -1 -1 -1 -1 -1 -1 -1 -1 -1]\n",
            " [-1 -1 -1 -1 -1 -1 -1 -1 -1 -1 -1 -1 -1 -1 -1 -1 -1 -1 -1 -1]\n",
            " [-1 -1 -1 -1 -1 -1 -1 -1 -1 -1 -1 -1 -1 -1 -1 -1 -1 -1 -1 -1]\n",
            " [-1 -1 -1 -1 -1 -1 -1 -1 -1 -1 -1 -1 -1 -1 -1 -1 -1 -1 -1 -1]\n",
            " [-1 -1 -1 -1 -1 -1 -1 -1 -1 -1 -1 -1 -1 -1 -1 -1 -1 -1 -1 -1]\n",
            " [-1 -1 -1 -1 -1 -1 -1 -1 -1 -1 -1 -1 -1 -1 -1 -1 -1 -1 -1 -1]\n",
            " [-1 -1 -1 -1 -1 -1 -1 -1 -1 -1 -1 -1 -1 -1 -1 -1 -1 -1 -1 -1]\n",
            " [-1 -1 -1 -1 -1 -1 -1 -1 -1 -1 -1 -1 -1 -1 -1 -1 -1 -1 -1 -1]]\n"
          ]
        }
      ]
    },
    {
      "cell_type": "code",
      "source": [
        "def find_closed_cells_with_one_open_neighbor(grid):\n",
        "  \"\"\"Finds closed cells with exactly one open neighbor, ensuring boundary checks.\"\"\"\n",
        "  results = []\n",
        "  rows, cols = grid.shape\n",
        "\n",
        "  for i in range(rows):\n",
        "    for j in range(cols):\n",
        "      if grid[i, j] == -1:  # Check for closed cells only\n",
        "        adjacent_cells = [(i - 1, j), (i, j - 1), (i + 1, j), (i, j + 1)]\n",
        "        adjacent_cells = [(x, y) for x, y in adjacent_cells if 0 <= x < rows and 0 <= y < cols]\n",
        "        num_zero_neighbors = sum(grid[x, y] == 0 for x, y in adjacent_cells)\n",
        "        if num_zero_neighbors == 1:\n",
        "          results.append((i, j))\n",
        "  return results\n",
        "\n",
        "while True:\n",
        "  avl_cells = find_closed_cells_with_one_open_neighbor(grid)\n",
        "  if not avl_cells:\n",
        "    break\n",
        "  p = random.choice(avl_cells)\n",
        "  grid[p] = 0\n",
        "\n",
        "print(grid)"
      ],
      "metadata": {
        "colab": {
          "base_uri": "https://localhost:8080/"
        },
        "id": "sLOXe0ujTHcv",
        "outputId": "62ad7836-afe0-4c3a-8b4a-8e687ea3194d"
      },
      "execution_count": null,
      "outputs": [
        {
          "output_type": "stream",
          "name": "stdout",
          "text": [
            "[[ 0  0 -1  0 -1  0 -1  0  0 -1  0  0  0  0  0  0  0  0  0  0]\n",
            " [-1  0  0  0  0  0  0  0 -1  0  0 -1  0 -1 -1  0 -1  0 -1  0]\n",
            " [ 0 -1 -1 -1  0 -1 -1  0  0  0 -1  0  0  0  0 -1  0  0 -1  0]\n",
            " [ 0  0  0  0  0  0  0 -1  0 -1  0  0 -1 -1  0  0 -1 -1  0  0]\n",
            " [-1  0 -1  0 -1  0 -1 -1  0 -1 -1  0  0  0 -1  0  0  0 -1 -1]\n",
            " [-1 -1  0  0  0 -1  0  0  0  0  0 -1  0 -1  0  0 -1  0 -1  0]\n",
            " [-1  0  0 -1  0 -1 -1 -1  0 -1  0 -1 -1  0 -1  0 -1  0  0  0]\n",
            " [ 0  0 -1  0  0  0  0  0 -1 -1  0  0  0  0 -1 -1  0 -1  0 -1]\n",
            " [-1 -1  0  0 -1  0 -1  0 -1  0  0 -1 -1  0  0  0  0 -1  0  0]\n",
            " [ 0  0  0 -1  0 -1  0  0 -1  0 -1  0  0 -1  0 -1  0 -1  0 -1]\n",
            " [ 0 -1  0 -1  0  0  0 -1  0  0 -1  0 -1  0  0  0 -1  0  0  0]\n",
            " [-1  0  0  0 -1  0 -1  0 -1  0  0  0  0 -1  0 -1  0  0 -1  0]\n",
            " [ 0  0 -1  0 -1  0  0  0  0 -1  0 -1  0  0 -1  0 -1  0 -1  0]\n",
            " [-1  0  0 -1  0  0 -1  0 -1  0  0 -1  0 -1  0  0  0  0 -1  0]\n",
            " [ 0  0 -1  0 -1  0  0 -1  0 -1  0 -1  0 -1  0 -1 -1  0 -1  0]\n",
            " [-1  0 -1  0 -1 -1  0 -1  0  0  0 -1  0  0 -1  0 -1 -1  0  0]\n",
            " [ 0 -1  0  0  0  0  0 -1 -1 -1  0 -1 -1  0  0  0  0  0 -1  0]\n",
            " [ 0  0  0 -1  0 -1  0  0  0 -1  0  0 -1  0 -1  0 -1 -1 -1  0]\n",
            " [ 0 -1  0 -1  0 -1  0 -1  0 -1  0 -1  0 -1  0  0 -1  0  0  0]\n",
            " [-1  0  0 -1  0 -1  0 -1  0 -1  0  0  0  0 -1 -1  0  0 -1  0]]\n"
          ]
        }
      ]
    },
    {
      "cell_type": "markdown",
      "source": [
        "# PLACING THE ALIENS , CAPTAIN AND BOTS AT THE STARTING POINTS"
      ],
      "metadata": {
        "id": "clgySxu6nN2f"
      }
    },
    {
      "cell_type": "code",
      "source": [
        "rows,cols =  grid.shape\n",
        "open_cells = []\n",
        "for i in range(rows):\n",
        "  for j in range(cols):\n",
        "    if grid[i,j] == 0:\n",
        "      open_cells.append((i,j))\n"
      ],
      "metadata": {
        "id": "T8nM77kqnVgR"
      },
      "execution_count": null,
      "outputs": []
    },
    {
      "cell_type": "markdown",
      "source": [
        "**placing K aliens**"
      ],
      "metadata": {
        "id": "TA2HLnfVofNR"
      }
    },
    {
      "cell_type": "code",
      "source": [
        "k = 90\n",
        "alien_cells = []\n",
        "while k:\n",
        "  r = random.choice(open_cells)\n",
        "  print(r)\n",
        "  grid[r] = 1\n",
        "  alien_cells.append(r)\n",
        "  open_cells.remove(r)\n",
        "  k -=1"
      ],
      "metadata": {
        "colab": {
          "base_uri": "https://localhost:8080/"
        },
        "id": "BFP_WzubnnLA",
        "outputId": "0d05d93a-36a6-45dc-f7dd-0adef37c1c06"
      },
      "execution_count": null,
      "outputs": [
        {
          "output_type": "stream",
          "name": "stdout",
          "text": [
            "(9, 9)\n",
            "(9, 12)\n",
            "(18, 17)\n",
            "(7, 3)\n",
            "(19, 8)\n",
            "(12, 10)\n",
            "(7, 5)\n",
            "(14, 5)\n",
            "(16, 2)\n",
            "(3, 11)\n",
            "(7, 12)\n",
            "(2, 4)\n",
            "(1, 15)\n",
            "(19, 11)\n",
            "(19, 13)\n",
            "(3, 0)\n",
            "(0, 14)\n",
            "(12, 6)\n",
            "(14, 17)\n",
            "(13, 19)\n",
            "(6, 18)\n",
            "(7, 7)\n",
            "(9, 18)\n",
            "(17, 11)\n",
            "(4, 13)\n",
            "(19, 12)\n",
            "(14, 6)\n",
            "(12, 12)\n",
            "(8, 14)\n",
            "(7, 11)\n",
            "(17, 1)\n",
            "(11, 17)\n",
            "(13, 4)\n",
            "(10, 4)\n",
            "(0, 3)\n",
            "(5, 8)\n",
            "(0, 5)\n",
            "(9, 1)\n",
            "(2, 0)\n",
            "(10, 9)\n",
            "(19, 10)\n",
            "(9, 11)\n",
            "(12, 15)\n",
            "(10, 19)\n",
            "(4, 11)\n",
            "(7, 10)\n",
            "(13, 7)\n",
            "(7, 1)\n",
            "(5, 10)\n",
            "(3, 1)\n",
            "(0, 13)\n",
            "(16, 0)\n",
            "(15, 8)\n",
            "(15, 12)\n",
            "(8, 19)\n",
            "(9, 7)\n",
            "(0, 12)\n",
            "(5, 12)\n",
            "(6, 17)\n",
            "(15, 15)\n",
            "(11, 2)\n",
            "(13, 15)\n",
            "(0, 15)\n",
            "(2, 16)\n",
            "(5, 4)\n",
            "(10, 2)\n",
            "(18, 8)\n",
            "(12, 0)\n",
            "(4, 5)\n",
            "(13, 1)\n",
            "(8, 15)\n",
            "(15, 6)\n",
            "(7, 18)\n",
            "(0, 16)\n",
            "(8, 2)\n",
            "(12, 8)\n",
            "(4, 1)\n",
            "(18, 4)\n",
            "(1, 7)\n",
            "(13, 2)\n",
            "(15, 10)\n",
            "(11, 12)\n",
            "(9, 4)\n",
            "(1, 12)\n",
            "(8, 13)\n",
            "(5, 15)\n",
            "(10, 0)\n",
            "(11, 10)\n",
            "(2, 19)\n",
            "(17, 19)\n"
          ]
        }
      ]
    },
    {
      "cell_type": "code",
      "source": [
        "print(grid)"
      ],
      "metadata": {
        "colab": {
          "base_uri": "https://localhost:8080/"
        },
        "id": "gnG0ZvAOoZYc",
        "outputId": "0669e061-f7cc-4bfc-de6f-e35dafd3f17a"
      },
      "execution_count": null,
      "outputs": [
        {
          "output_type": "stream",
          "name": "stdout",
          "text": [
            "[[ 0  0 -1  1 -1  1 -1  0  0 -1  0  0  1  1  1  1  1  0  0  0]\n",
            " [-1  0  0  0  0  0  0  1 -1  0  0 -1  1 -1 -1  1 -1  0 -1  0]\n",
            " [ 1 -1 -1 -1  1 -1 -1  0  0  0 -1  0  0  0  0 -1  1  0 -1  1]\n",
            " [ 1  1  0  0  0  0  0 -1  0 -1  0  1 -1 -1  0  0 -1 -1  0  0]\n",
            " [-1  1 -1  0 -1  1 -1 -1  0 -1 -1  1  0  1 -1  0  0  0 -1 -1]\n",
            " [-1 -1  0  0  1 -1  0  0  1  0  1 -1  1 -1  0  1 -1  0 -1  0]\n",
            " [-1  0  0 -1  0 -1 -1 -1  0 -1  0 -1 -1  0 -1  0 -1  1  1  0]\n",
            " [ 0  1 -1  1  0  1  0  1 -1 -1  1  1  1  0 -1 -1  0 -1  1 -1]\n",
            " [-1 -1  1  0 -1  0 -1  0 -1  0  0 -1 -1  1  1  1  0 -1  0  1]\n",
            " [ 0  1  0 -1  1 -1  0  1 -1  1 -1  1  1 -1  0 -1  0 -1  1 -1]\n",
            " [ 1 -1  1 -1  1  0  0 -1  0  1 -1  0 -1  0  0  0 -1  0  0  1]\n",
            " [-1  0  1  0 -1  0 -1  0 -1  0  1  0  1 -1  0 -1  0  1 -1  0]\n",
            " [ 1  0 -1  0 -1  0  1  0  1 -1  1 -1  1  0 -1  1 -1  0 -1  0]\n",
            " [-1  1  1 -1  1  0 -1  1 -1  0  0 -1  0 -1  0  1  0  0 -1  1]\n",
            " [ 0  0 -1  0 -1  1  1 -1  0 -1  0 -1  0 -1  0 -1 -1  1 -1  0]\n",
            " [-1  0 -1  0 -1 -1  1 -1  1  0  1 -1  1  0 -1  1 -1 -1  0  0]\n",
            " [ 1 -1  1  0  0  0  0 -1 -1 -1  0 -1 -1  0  0  0  0  0 -1  0]\n",
            " [ 0  1  0 -1  0 -1  0  0  0 -1  0  1 -1  0 -1  0 -1 -1 -1  1]\n",
            " [ 0 -1  0 -1  1 -1  0 -1  1 -1  0 -1  0 -1  0  0 -1  1  0  0]\n",
            " [-1  0  0 -1  0 -1  0 -1  1 -1  1  1  1  1 -1 -1  0  0 -1  0]]\n"
          ]
        }
      ]
    },
    {
      "cell_type": "markdown",
      "source": [
        "**placing the captain**"
      ],
      "metadata": {
        "id": "sFVk91xxoi14"
      }
    },
    {
      "cell_type": "code",
      "source": [
        "r = random.choice(open_cells)\n",
        "grid[r] = 10\n",
        "goal = r\n",
        "#not removing the cell from open cell as the bot may be able to spawn in the cell of the captain"
      ],
      "metadata": {
        "id": "5fbjvccQolqc"
      },
      "execution_count": null,
      "outputs": []
    },
    {
      "cell_type": "markdown",
      "source": [
        "**placing the bot**"
      ],
      "metadata": {
        "id": "oTHNLDgGo5zU"
      }
    },
    {
      "cell_type": "code",
      "source": [
        "r =  random.choice(open_cells)\n",
        "grid[r] = 2\n",
        "start = r"
      ],
      "metadata": {
        "id": "Qm45ehBXpLP5"
      },
      "execution_count": null,
      "outputs": []
    },
    {
      "cell_type": "markdown",
      "source": [
        "FINAL START STATE OF GRID"
      ],
      "metadata": {
        "id": "hOYQJJmGpdCw"
      }
    },
    {
      "cell_type": "code",
      "source": [
        "grid"
      ],
      "metadata": {
        "colab": {
          "base_uri": "https://localhost:8080/"
        },
        "id": "6BLw8IiWpb6Y",
        "outputId": "9d3e1307-ed86-4da5-ff97-84f7a4cd657a"
      },
      "execution_count": null,
      "outputs": [
        {
          "output_type": "execute_result",
          "data": {
            "text/plain": [
              "array([[ 0,  0, -1,  1, -1,  1, -1,  0,  0, -1,  0,  0,  1,  1,  1,  1,\n",
              "         1,  0,  0,  0],\n",
              "       [-1,  0,  0,  0,  0,  0,  0,  1, -1,  0,  0, -1,  1, -1, -1,  1,\n",
              "        -1,  0, -1,  0],\n",
              "       [ 1, -1, -1, -1,  1, -1, -1,  0,  0,  0, -1,  0,  0,  0,  0, -1,\n",
              "         1,  0, -1,  1],\n",
              "       [ 1,  1,  0,  0,  0,  0,  0, -1,  0, -1,  0,  1, -1, -1,  0,  0,\n",
              "        -1, -1,  2,  0],\n",
              "       [-1,  1, -1,  0, -1,  1, -1, -1,  0, -1, -1,  1,  0,  1, -1,  0,\n",
              "         0,  0, -1, -1],\n",
              "       [-1, -1,  0,  0,  1, -1,  0,  0,  1,  0,  1, -1,  1, -1,  0,  1,\n",
              "        -1,  0, -1,  0],\n",
              "       [-1,  0,  0, -1,  0, -1, -1, -1,  0, -1,  0, -1, -1,  0, -1,  0,\n",
              "        -1,  1,  1,  0],\n",
              "       [ 0,  1, -1,  1,  0,  1,  0,  1, -1, -1,  1,  1,  1,  0, -1, -1,\n",
              "         0, -1,  1, -1],\n",
              "       [-1, -1,  1,  0, -1,  0, -1,  0, -1,  0,  0, -1, -1,  1,  1,  1,\n",
              "         0, -1,  0,  1],\n",
              "       [ 0,  1,  0, -1,  1, -1,  0,  1, -1,  1, -1,  1,  1, -1,  0, -1,\n",
              "         0, -1,  1, -1],\n",
              "       [ 1, -1,  1, -1,  1,  0,  0, -1,  0,  1, -1,  0, -1,  0,  0,  0,\n",
              "        -1,  0,  0,  1],\n",
              "       [-1,  0,  1,  0, -1,  0, -1,  0, -1,  0,  1,  0,  1, -1,  0, -1,\n",
              "         0,  1, -1,  0],\n",
              "       [ 1,  0, -1,  0, -1,  0,  1,  0,  1, -1,  1, -1,  1,  0, -1,  1,\n",
              "        -1,  0, -1,  0],\n",
              "       [-1,  1,  1, -1,  1,  0, -1,  1, -1,  0,  0, -1,  0, -1,  0,  1,\n",
              "         0,  0, -1,  1],\n",
              "       [ 0,  0, -1,  0, -1,  1,  1, -1,  0, -1,  0, -1,  0, -1,  0, -1,\n",
              "        -1,  1, -1,  0],\n",
              "       [-1,  0, -1,  0, -1, -1,  1, -1,  1,  0,  1, -1,  1,  0, -1,  1,\n",
              "        -1, -1,  0,  0],\n",
              "       [ 1, -1,  1,  0,  0,  0,  0, -1, -1, -1,  0, -1, -1,  0,  0,  0,\n",
              "         0,  0, -1,  0],\n",
              "       [ 0,  1, 10, -1,  0, -1,  0,  0,  0, -1,  0,  1, -1,  0, -1,  0,\n",
              "        -1, -1, -1,  1],\n",
              "       [ 0, -1,  0, -1,  1, -1,  0, -1,  1, -1,  0, -1,  0, -1,  0,  0,\n",
              "        -1,  1,  0,  0],\n",
              "       [-1,  0,  0, -1,  0, -1,  0, -1,  1, -1,  1,  1,  1,  1, -1, -1,\n",
              "         0,  0, -1,  0]])"
            ]
          },
          "metadata": {},
          "execution_count": 12
        }
      ]
    },
    {
      "cell_type": "markdown",
      "source": [
        "# generate cells for possible moves"
      ],
      "metadata": {
        "id": "AxEpCL0Wtj9p"
      }
    },
    {
      "cell_type": "code",
      "source": [
        "def get_adjacent_cells(grid, x, y):\n",
        "  adjacent_cells = []\n",
        "  if 0 <= x - 1 < grid.shape[0]:\n",
        "    adjacent_cells.append((x - 1, y))  # Top\n",
        "  if 0 <= y - 1 < grid.shape[1]:\n",
        "    adjacent_cells.append((x, y - 1))  # Left\n",
        "  if 0 <= x + 1 < grid.shape[0]:\n",
        "    adjacent_cells.append((x + 1, y))  # Bottom\n",
        "  if 0 <= y + 1 < grid.shape[1]:\n",
        "    adjacent_cells.append((x, y + 1))  # Right\n",
        "  return adjacent_cells"
      ],
      "metadata": {
        "id": "a_Q6ZAi7tpwo"
      },
      "execution_count": null,
      "outputs": []
    },
    {
      "cell_type": "markdown",
      "source": [
        "# BOT 1"
      ],
      "metadata": {
        "id": "p8AiaK9Qpptl"
      }
    },
    {
      "cell_type": "markdown",
      "source": [
        "Bot 1 plans the shortest path from start point to captain and ignores the position of aliens at all times"
      ],
      "metadata": {
        "id": "vJB0-0ilqWKh"
      }
    },
    {
      "cell_type": "code",
      "source": [
        "grid1 = grid\n",
        "#saving a copy of the original grid"
      ],
      "metadata": {
        "id": "z-odmEWRpttI"
      },
      "execution_count": null,
      "outputs": []
    },
    {
      "cell_type": "markdown",
      "source": [
        "Using bfs to find the shortest path"
      ],
      "metadata": {
        "id": "5G1N1AjgsXRJ"
      }
    },
    {
      "cell_type": "code",
      "source": [
        "def find_shortest_path(grid, start, goal):\n",
        "    rows, cols = grid.shape\n",
        "    queue = [(start, [start])]\n",
        "    visited = set()\n",
        "\n",
        "    while queue:\n",
        "        cell, path = queue.pop(0)\n",
        "        visited.add(cell)\n",
        "\n",
        "        if cell == goal:\n",
        "            return path\n",
        "\n",
        "        for neighbor in [(cell[0] + 1, cell[1]), (cell[0] - 1, cell[1]),\n",
        "                         (cell[0], cell[1] + 1), (cell[0], cell[1] - 1)]:\n",
        "            if 0 <= neighbor[0] < rows and 0 <= neighbor[1] < cols and grid[neighbor] != -1 and neighbor not in visited:\n",
        "                queue.append((neighbor, path + [neighbor]))\n",
        "\n",
        "    return None"
      ],
      "metadata": {
        "id": "S5ERncmErjGx"
      },
      "execution_count": null,
      "outputs": []
    },
    {
      "cell_type": "code",
      "source": [
        "def bot1_start_rescue(grid):\n",
        "  bot1_path = find_shortest_path(grid,start,goal)\n",
        "  return bot1_path\n"
      ],
      "metadata": {
        "id": "dT1RaaTSpxI3"
      },
      "execution_count": null,
      "outputs": []
    },
    {
      "cell_type": "code",
      "source": [
        "path = bot1_start_rescue(grid1)\n",
        "path"
      ],
      "metadata": {
        "colab": {
          "base_uri": "https://localhost:8080/"
        },
        "id": "4yVbjaEdsFgI",
        "outputId": "84d110d3-3938-41d6-d68c-c72a959b1041"
      },
      "execution_count": null,
      "outputs": [
        {
          "output_type": "execute_result",
          "data": {
            "text/plain": [
              "[(3, 18),\n",
              " (3, 19),\n",
              " (2, 19),\n",
              " (1, 19),\n",
              " (0, 19),\n",
              " (0, 18),\n",
              " (0, 17),\n",
              " (0, 16),\n",
              " (0, 15),\n",
              " (0, 14),\n",
              " (0, 13),\n",
              " (0, 12),\n",
              " (0, 11),\n",
              " (0, 10),\n",
              " (1, 10),\n",
              " (1, 9),\n",
              " (2, 9),\n",
              " (2, 8),\n",
              " (2, 7),\n",
              " (1, 7),\n",
              " (1, 6),\n",
              " (1, 5),\n",
              " (1, 4),\n",
              " (2, 4),\n",
              " (3, 4),\n",
              " (3, 3),\n",
              " (4, 3),\n",
              " (5, 3),\n",
              " (5, 4),\n",
              " (6, 4),\n",
              " (7, 4),\n",
              " (7, 5),\n",
              " (7, 6),\n",
              " (7, 7),\n",
              " (8, 7),\n",
              " (9, 7),\n",
              " (9, 6),\n",
              " (10, 6),\n",
              " (10, 5),\n",
              " (11, 5),\n",
              " (12, 5),\n",
              " (13, 5),\n",
              " (14, 5),\n",
              " (14, 6),\n",
              " (15, 6),\n",
              " (16, 6),\n",
              " (16, 5),\n",
              " (16, 4),\n",
              " (16, 3),\n",
              " (16, 2),\n",
              " (17, 2)]"
            ]
          },
          "metadata": {},
          "execution_count": 17
        }
      ]
    },
    {
      "cell_type": "markdown",
      "source": [
        "Moving the bot step by step until the goal is reached or bot meets alien"
      ],
      "metadata": {
        "id": "gwQ0zxbosgTC"
      }
    },
    {
      "cell_type": "code",
      "source": [
        "prev_cell =[start]\n",
        "flag  = 0\n",
        "bot_path = [start]\n",
        "while flag == 0:\n",
        "  for cell in path:\n",
        "    print(\"\\n \\n \\n \\n\")\n",
        "    print(grid1)\n",
        "    grid1[cell] = 2\n",
        "    grid1[prev_cell] = 0\n",
        "    prev_cell = cell\n",
        "    if cell == goal:\n",
        "      flag = 1\n",
        "      break\n",
        "    chosen_alien = random.choice(alien_cells)\n",
        "    alien_possible_moves = get_adjacent_cells(grid1,chosen_alien[0],chosen_alien[1])\n",
        "    random_cell_choice = random.choice(alien_possible_moves)\n",
        "    print(f\"Alien moves from f{chosen_alien} to {random_cell_choice}\")\n",
        "    if grid1[random_cell_choice] == 2:\n",
        "      flag = 2\n",
        "      break\n",
        "    else:\n",
        "      grid1[random_cell_choice] = 1\n",
        "      grid1[chosen_alien] = 0\n",
        "      alien_cells.remove(chosen_alien)\n",
        "      alien_cells.append(random_cell_choice)\n",
        "      bot_path.append(cell)\n",
        "if flag == 1:\n",
        "  print(\"GOAL REACHED\")\n",
        "else:\n",
        "  print(\"GOAL FAILED\")\n",
        "  print(f\"Alien meet bot at {random_cell_choice}\")\n",
        "print(bot_path)\n",
        "print(f\"no of steps taken = {len(bot_path)}\")\n",
        "\n"
      ],
      "metadata": {
        "colab": {
          "base_uri": "https://localhost:8080/"
        },
        "id": "MN7yNLA9sp2t",
        "outputId": "5e6799d4-a948-4170-bc2b-6adee9299b0a"
      },
      "execution_count": null,
      "outputs": [
        {
          "output_type": "stream",
          "name": "stdout",
          "text": [
            "\n",
            " \n",
            " \n",
            " \n",
            "\n",
            "[[ 0  0  0  0 -1  0  0  0  0 -1  0  1  0  0  0  0  0  0  0  0]\n",
            " [ 0  0  0  0  0  0  0  0 -1  0  0 -1  1  1  0  1  1  0 -1  0]\n",
            " [ 1  1 -1 -1  0  0 -1  0  0  0 -1  0  0  0  0  0  0  1  0  0]\n",
            " [ 0  0  0  0  0  0  0  0  0  0  0  0  0  1  0  0  0  0  0  0]\n",
            " [ 0  1  0  0  0  0 -1 -1  0 -1 -1  1  0  0 -1  0  0  0 -1  1]\n",
            " [ 0  0  1  0  0  1  0  0  0  0  0  0  0 -1  0  0  1  0  0  0]\n",
            " [ 1  0  0  1  0 -1 -1  0  0  1  0  0  1  0 -1  0  1  0  0  0]\n",
            " [ 0  0  0  0  0  0  0  0  1  0  0  0  1  0  1  0  0  0  1  0]\n",
            " [-1  0  0  0  1  0 -1  0 -1  0  1  0  0  0  0  0  0 -1  0  1]\n",
            " [ 0  0  1  0  1 -1  0  0  1  0  1  1  0 -1  0  0  0 -1  0  0]\n",
            " [ 0 -1  0  1  0  0  0  0  0  0 -1  0  0  0  1  0 -1  0  1  1]\n",
            " [ 1  0  0  0  0  0 -1  0 -1  0  0  0  0  0  1  0  0  0  0  0]\n",
            " [ 0  0 -1  1  0  0  1  0  0 -1  0 -1  0  1  0  0  0  0 -1  0]\n",
            " [ 0  0  0  0  0  1  0  1 -1  0  0  0  0  0  0  0  0  0 -1  0]\n",
            " [ 0  0  1  0  0  0  0  0  0 -1  0  1  0  1  1  0  0  0  0  0]\n",
            " [ 1  0  0  0  0  0  0  1  0  0  0  0  0  0  1  0 -1 -1  0  0]\n",
            " [ 0  0  0  0  0  0  0  0  0 -1  1  0 -1  0  0  0  0  0  0  1]\n",
            " [ 0  0  2 -1  0  1  0  1  0  0  0  1 -1  0 -1  0 -1 -1 -1  0]\n",
            " [ 0  0  0  0  0  0  0  0  0  0  0  0  0  0  0  0  0  0  0  0]\n",
            " [-1  0  0  1  0 -1  1  0  0 -1  0  0  0  0  1  0  1  0  0  0]]\n",
            "Alien moves from f(11, 0) to (12, 0)\n",
            "\n",
            " \n",
            " \n",
            " \n",
            "\n",
            "[[ 0  0  0  0 -1  0  0  0  0 -1  0  1  0  0  0  0  0  0  0  0]\n",
            " [ 0  0  0  0  0  0  0  0 -1  0  0 -1  1  1  0  1  1  0 -1  0]\n",
            " [ 1  1 -1 -1  0  0 -1  0  0  0 -1  0  0  0  0  0  0  1  0  0]\n",
            " [ 0  0  0  0  0  0  0  0  0  0  0  0  0  0  0  0  0  0  0  0]\n",
            " [ 0  1  0  0  0  0 -1 -1  0 -1 -1  1  0  0 -1  0  0  0 -1  1]\n",
            " [ 0  0  1  0  0  1  0  0  0  0  0  0  0 -1  0  0  1  0  0  0]\n",
            " [ 1  0  0  1  0 -1 -1  0  0  1  0  0  1  0 -1  0  1  0  0  0]\n",
            " [ 0  0  0  0  0  0  0  0  1  0  0  0  1  0  1  0  0  0  1  0]\n",
            " [-1  0  0  0  1  0 -1  0 -1  0  1  0  0  0  0  0  0 -1  0  1]\n",
            " [ 0  0  1  0  1 -1  0  0  1  0  1  1  0 -1  0  0  0 -1  0  0]\n",
            " [ 0 -1  0  1  0  0  0  0  0  0 -1  0  0  0  1  0 -1  0  1  1]\n",
            " [ 0  0  0  0  0  0 -1  0 -1  0  0  0  0  0  1  0  0  0  0  0]\n",
            " [ 1  0 -1  1  0  0  1  0  0 -1  0 -1  0  1  0  0  0  0 -1  0]\n",
            " [ 0  0  0  0  0  1  0  1 -1  0  0  0  0  0  0  0  0  0 -1  0]\n",
            " [ 0  0  1  0  0  0  0  0  0 -1  0  1  0  1  1  0  0  0  0  0]\n",
            " [ 1  0  0  0  0  0  0  1  0  0  0  0  0  0  1  0 -1 -1  0  0]\n",
            " [ 0  0  0  0  0  0  0  0  0 -1  1  0 -1  0  0  0  0  0  0  1]\n",
            " [ 0  0  2 -1  0  1  0  1  0  0  0  1 -1  0 -1  0 -1 -1 -1  0]\n",
            " [ 0  0  0  0  0  0  0  0  0  0  0  0  0  0  0  0  0  0  0  0]\n",
            " [-1  0  0  1  0 -1  1  0  0 -1  0  0  0  0  1  0  1  0  0  0]]\n",
            "Alien moves from f(9, 4) to (8, 4)\n",
            "\n",
            " \n",
            " \n",
            " \n",
            "\n",
            "[[ 0  0  0  0 -1  0  0  0  0 -1  0  1  0  0  0  0  0  0  0  0]\n",
            " [ 0  0  0  0  0  0  0  0 -1  0  0 -1  1  1  0  1  1  0 -1  0]\n",
            " [ 1  1 -1 -1  0  0 -1  0  0  0 -1  0  0  0  0  0  0  1  0  0]\n",
            " [ 0  0  0  0  0  0  0  0  0  0  0  0  0  0  0  0  0  0  0  2]\n",
            " [ 0  1  0  0  0  0 -1 -1  0 -1 -1  1  0  0 -1  0  0  0 -1  1]\n",
            " [ 0  0  1  0  0  1  0  0  0  0  0  0  0 -1  0  0  1  0  0  0]\n",
            " [ 1  0  0  1  0 -1 -1  0  0  1  0  0  1  0 -1  0  1  0  0  0]\n",
            " [ 0  0  0  0  0  0  0  0  1  0  0  0  1  0  1  0  0  0  1  0]\n",
            " [-1  0  0  0  1  0 -1  0 -1  0  1  0  0  0  0  0  0 -1  0  1]\n",
            " [ 0  0  1  0  0 -1  0  0  1  0  1  1  0 -1  0  0  0 -1  0  0]\n",
            " [ 0 -1  0  1  0  0  0  0  0  0 -1  0  0  0  1  0 -1  0  1  1]\n",
            " [ 0  0  0  0  0  0 -1  0 -1  0  0  0  0  0  1  0  0  0  0  0]\n",
            " [ 1  0 -1  1  0  0  1  0  0 -1  0 -1  0  1  0  0  0  0 -1  0]\n",
            " [ 0  0  0  0  0  1  0  1 -1  0  0  0  0  0  0  0  0  0 -1  0]\n",
            " [ 0  0  1  0  0  0  0  0  0 -1  0  1  0  1  1  0  0  0  0  0]\n",
            " [ 1  0  0  0  0  0  0  1  0  0  0  0  0  0  1  0 -1 -1  0  0]\n",
            " [ 0  0  0  0  0  0  0  0  0 -1  1  0 -1  0  0  0  0  0  0  1]\n",
            " [ 0  0  2 -1  0  1  0  1  0  0  0  1 -1  0 -1  0 -1 -1 -1  0]\n",
            " [ 0  0  0  0  0  0  0  0  0  0  0  0  0  0  0  0  0  0  0  0]\n",
            " [-1  0  0  1  0 -1  1  0  0 -1  0  0  0  0  1  0  1  0  0  0]]\n",
            "Alien moves from f(13, 7) to (14, 7)\n",
            "\n",
            " \n",
            " \n",
            " \n",
            "\n",
            "[[ 0  0  0  0 -1  0  0  0  0 -1  0  1  0  0  0  0  0  0  0  0]\n",
            " [ 0  0  0  0  0  0  0  0 -1  0  0 -1  1  1  0  1  1  0 -1  0]\n",
            " [ 1  1 -1 -1  0  0 -1  0  0  0 -1  0  0  0  0  0  0  1  0  2]\n",
            " [ 0  0  0  0  0  0  0  0  0  0  0  0  0  0  0  0  0  0  0  0]\n",
            " [ 0  1  0  0  0  0 -1 -1  0 -1 -1  1  0  0 -1  0  0  0 -1  1]\n",
            " [ 0  0  1  0  0  1  0  0  0  0  0  0  0 -1  0  0  1  0  0  0]\n",
            " [ 1  0  0  1  0 -1 -1  0  0  1  0  0  1  0 -1  0  1  0  0  0]\n",
            " [ 0  0  0  0  0  0  0  0  1  0  0  0  1  0  1  0  0  0  1  0]\n",
            " [-1  0  0  0  1  0 -1  0 -1  0  1  0  0  0  0  0  0 -1  0  1]\n",
            " [ 0  0  1  0  0 -1  0  0  1  0  1  1  0 -1  0  0  0 -1  0  0]\n",
            " [ 0 -1  0  1  0  0  0  0  0  0 -1  0  0  0  1  0 -1  0  1  1]\n",
            " [ 0  0  0  0  0  0 -1  0 -1  0  0  0  0  0  1  0  0  0  0  0]\n",
            " [ 1  0 -1  1  0  0  1  0  0 -1  0 -1  0  1  0  0  0  0 -1  0]\n",
            " [ 0  0  0  0  0  1  0  0 -1  0  0  0  0  0  0  0  0  0 -1  0]\n",
            " [ 0  0  1  0  0  0  0  1  0 -1  0  1  0  1  1  0  0  0  0  0]\n",
            " [ 1  0  0  0  0  0  0  1  0  0  0  0  0  0  1  0 -1 -1  0  0]\n",
            " [ 0  0  0  0  0  0  0  0  0 -1  1  0 -1  0  0  0  0  0  0  1]\n",
            " [ 0  0  2 -1  0  1  0  1  0  0  0  1 -1  0 -1  0 -1 -1 -1  0]\n",
            " [ 0  0  0  0  0  0  0  0  0  0  0  0  0  0  0  0  0  0  0  0]\n",
            " [-1  0  0  1  0 -1  1  0  0 -1  0  0  0  0  1  0  1  0  0  0]]\n",
            "Alien moves from f(6, 8) to (7, 8)\n",
            "\n",
            " \n",
            " \n",
            " \n",
            "\n",
            "[[ 0  0  0  0 -1  0  0  0  0 -1  0  1  0  0  0  0  0  0  0  0]\n",
            " [ 0  0  0  0  0  0  0  0 -1  0  0 -1  1  1  0  1  1  0 -1  2]\n",
            " [ 1  1 -1 -1  0  0 -1  0  0  0 -1  0  0  0  0  0  0  1  0  0]\n",
            " [ 0  0  0  0  0  0  0  0  0  0  0  0  0  0  0  0  0  0  0  0]\n",
            " [ 0  1  0  0  0  0 -1 -1  0 -1 -1  1  0  0 -1  0  0  0 -1  1]\n",
            " [ 0  0  1  0  0  1  0  0  0  0  0  0  0 -1  0  0  1  0  0  0]\n",
            " [ 1  0  0  1  0 -1 -1  0  0  1  0  0  1  0 -1  0  1  0  0  0]\n",
            " [ 0  0  0  0  0  0  0  0  1  0  0  0  1  0  1  0  0  0  1  0]\n",
            " [-1  0  0  0  1  0 -1  0 -1  0  1  0  0  0  0  0  0 -1  0  1]\n",
            " [ 0  0  1  0  0 -1  0  0  1  0  1  1  0 -1  0  0  0 -1  0  0]\n",
            " [ 0 -1  0  1  0  0  0  0  0  0 -1  0  0  0  1  0 -1  0  1  1]\n",
            " [ 0  0  0  0  0  0 -1  0 -1  0  0  0  0  0  1  0  0  0  0  0]\n",
            " [ 1  0 -1  1  0  0  1  0  0 -1  0 -1  0  1  0  0  0  0 -1  0]\n",
            " [ 0  0  0  0  0  1  0  0 -1  0  0  0  0  0  0  0  0  0 -1  0]\n",
            " [ 0  0  1  0  0  0  0  1  0 -1  0  1  0  1  1  0  0  0  0  0]\n",
            " [ 1  0  0  0  0  0  0  1  0  0  0  0  0  0  1  0 -1 -1  0  0]\n",
            " [ 0  0  0  0  0  0  0  0  0 -1  1  0 -1  0  0  0  0  0  0  1]\n",
            " [ 0  0  2 -1  0  1  0  1  0  0  0  1 -1  0 -1  0 -1 -1 -1  0]\n",
            " [ 0  0  0  0  0  0  0  0  0  0  0  0  0  0  0  0  0  0  0  0]\n",
            " [-1  0  0  1  0 -1  1  0  0 -1  0  0  0  0  1  0  1  0  0  0]]\n",
            "Alien moves from f(4, 1) to (4, 0)\n",
            "\n",
            " \n",
            " \n",
            " \n",
            "\n",
            "[[ 0  0  0  0 -1  0  0  0  0 -1  0  1  0  0  0  0  0  0  0  2]\n",
            " [ 0  0  0  0  0  0  0  0 -1  0  0 -1  1  1  0  1  1  0 -1  0]\n",
            " [ 1  1 -1 -1  0  0 -1  0  0  0 -1  0  0  0  0  0  0  1  0  0]\n",
            " [ 0  0  0  0  0  0  0  0  0  0  0  0  0  0  0  0  0  0  0  0]\n",
            " [ 1  0  0  0  0  0 -1 -1  0 -1 -1  1  0  0 -1  0  0  0 -1  1]\n",
            " [ 0  0  1  0  0  1  0  0  0  0  0  0  0 -1  0  0  1  0  0  0]\n",
            " [ 1  0  0  1  0 -1 -1  0  0  1  0  0  1  0 -1  0  1  0  0  0]\n",
            " [ 0  0  0  0  0  0  0  0  1  0  0  0  1  0  1  0  0  0  1  0]\n",
            " [-1  0  0  0  1  0 -1  0 -1  0  1  0  0  0  0  0  0 -1  0  1]\n",
            " [ 0  0  1  0  0 -1  0  0  1  0  1  1  0 -1  0  0  0 -1  0  0]\n",
            " [ 0 -1  0  1  0  0  0  0  0  0 -1  0  0  0  1  0 -1  0  1  1]\n",
            " [ 0  0  0  0  0  0 -1  0 -1  0  0  0  0  0  1  0  0  0  0  0]\n",
            " [ 1  0 -1  1  0  0  1  0  0 -1  0 -1  0  1  0  0  0  0 -1  0]\n",
            " [ 0  0  0  0  0  1  0  0 -1  0  0  0  0  0  0  0  0  0 -1  0]\n",
            " [ 0  0  1  0  0  0  0  1  0 -1  0  1  0  1  1  0  0  0  0  0]\n",
            " [ 1  0  0  0  0  0  0  1  0  0  0  0  0  0  1  0 -1 -1  0  0]\n",
            " [ 0  0  0  0  0  0  0  0  0 -1  1  0 -1  0  0  0  0  0  0  1]\n",
            " [ 0  0  2 -1  0  1  0  1  0  0  0  1 -1  0 -1  0 -1 -1 -1  0]\n",
            " [ 0  0  0  0  0  0  0  0  0  0  0  0  0  0  0  0  0  0  0  0]\n",
            " [-1  0  0  1  0 -1  1  0  0 -1  0  0  0  0  1  0  1  0  0  0]]\n",
            "Alien moves from f(19, 6) to (19, 7)\n",
            "\n",
            " \n",
            " \n",
            " \n",
            "\n",
            "[[ 0  0  0  0 -1  0  0  0  0 -1  0  1  0  0  0  0  0  0  2  0]\n",
            " [ 0  0  0  0  0  0  0  0 -1  0  0 -1  1  1  0  1  1  0 -1  0]\n",
            " [ 1  1 -1 -1  0  0 -1  0  0  0 -1  0  0  0  0  0  0  1  0  0]\n",
            " [ 0  0  0  0  0  0  0  0  0  0  0  0  0  0  0  0  0  0  0  0]\n",
            " [ 1  0  0  0  0  0 -1 -1  0 -1 -1  1  0  0 -1  0  0  0 -1  1]\n",
            " [ 0  0  1  0  0  1  0  0  0  0  0  0  0 -1  0  0  1  0  0  0]\n",
            " [ 1  0  0  1  0 -1 -1  0  0  1  0  0  1  0 -1  0  1  0  0  0]\n",
            " [ 0  0  0  0  0  0  0  0  1  0  0  0  1  0  1  0  0  0  1  0]\n",
            " [-1  0  0  0  1  0 -1  0 -1  0  1  0  0  0  0  0  0 -1  0  1]\n",
            " [ 0  0  1  0  0 -1  0  0  1  0  1  1  0 -1  0  0  0 -1  0  0]\n",
            " [ 0 -1  0  1  0  0  0  0  0  0 -1  0  0  0  1  0 -1  0  1  1]\n",
            " [ 0  0  0  0  0  0 -1  0 -1  0  0  0  0  0  1  0  0  0  0  0]\n",
            " [ 1  0 -1  1  0  0  1  0  0 -1  0 -1  0  1  0  0  0  0 -1  0]\n",
            " [ 0  0  0  0  0  1  0  0 -1  0  0  0  0  0  0  0  0  0 -1  0]\n",
            " [ 0  0  1  0  0  0  0  1  0 -1  0  1  0  1  1  0  0  0  0  0]\n",
            " [ 1  0  0  0  0  0  0  1  0  0  0  0  0  0  1  0 -1 -1  0  0]\n",
            " [ 0  0  0  0  0  0  0  0  0 -1  1  0 -1  0  0  0  0  0  0  1]\n",
            " [ 0  0  2 -1  0  1  0  1  0  0  0  1 -1  0 -1  0 -1 -1 -1  0]\n",
            " [ 0  0  0  0  0  0  0  0  0  0  0  0  0  0  0  0  0  0  0  0]\n",
            " [-1  0  0  1  0 -1  0  1  0 -1  0  0  0  0  1  0  1  0  0  0]]\n",
            "Alien moves from f(5, 5) to (5, 6)\n",
            "\n",
            " \n",
            " \n",
            " \n",
            "\n",
            "[[ 0  0  0  0 -1  0  0  0  0 -1  0  1  0  0  0  0  0  2  0  0]\n",
            " [ 0  0  0  0  0  0  0  0 -1  0  0 -1  1  1  0  1  1  0 -1  0]\n",
            " [ 1  1 -1 -1  0  0 -1  0  0  0 -1  0  0  0  0  0  0  1  0  0]\n",
            " [ 0  0  0  0  0  0  0  0  0  0  0  0  0  0  0  0  0  0  0  0]\n",
            " [ 1  0  0  0  0  0 -1 -1  0 -1 -1  1  0  0 -1  0  0  0 -1  1]\n",
            " [ 0  0  1  0  0  0  1  0  0  0  0  0  0 -1  0  0  1  0  0  0]\n",
            " [ 1  0  0  1  0 -1 -1  0  0  1  0  0  1  0 -1  0  1  0  0  0]\n",
            " [ 0  0  0  0  0  0  0  0  1  0  0  0  1  0  1  0  0  0  1  0]\n",
            " [-1  0  0  0  1  0 -1  0 -1  0  1  0  0  0  0  0  0 -1  0  1]\n",
            " [ 0  0  1  0  0 -1  0  0  1  0  1  1  0 -1  0  0  0 -1  0  0]\n",
            " [ 0 -1  0  1  0  0  0  0  0  0 -1  0  0  0  1  0 -1  0  1  1]\n",
            " [ 0  0  0  0  0  0 -1  0 -1  0  0  0  0  0  1  0  0  0  0  0]\n",
            " [ 1  0 -1  1  0  0  1  0  0 -1  0 -1  0  1  0  0  0  0 -1  0]\n",
            " [ 0  0  0  0  0  1  0  0 -1  0  0  0  0  0  0  0  0  0 -1  0]\n",
            " [ 0  0  1  0  0  0  0  1  0 -1  0  1  0  1  1  0  0  0  0  0]\n",
            " [ 1  0  0  0  0  0  0  1  0  0  0  0  0  0  1  0 -1 -1  0  0]\n",
            " [ 0  0  0  0  0  0  0  0  0 -1  1  0 -1  0  0  0  0  0  0  1]\n",
            " [ 0  0  2 -1  0  1  0  1  0  0  0  1 -1  0 -1  0 -1 -1 -1  0]\n",
            " [ 0  0  0  0  0  0  0  0  0  0  0  0  0  0  0  0  0  0  0  0]\n",
            " [-1  0  0  1  0 -1  0  1  0 -1  0  0  0  0  1  0  1  0  0  0]]\n",
            "Alien moves from f(19, 16) to (19, 15)\n",
            "\n",
            " \n",
            " \n",
            " \n",
            "\n",
            "[[ 0  0  0  0 -1  0  0  0  0 -1  0  1  0  0  0  0  2  0  0  0]\n",
            " [ 0  0  0  0  0  0  0  0 -1  0  0 -1  1  1  0  1  1  0 -1  0]\n",
            " [ 1  1 -1 -1  0  0 -1  0  0  0 -1  0  0  0  0  0  0  1  0  0]\n",
            " [ 0  0  0  0  0  0  0  0  0  0  0  0  0  0  0  0  0  0  0  0]\n",
            " [ 1  0  0  0  0  0 -1 -1  0 -1 -1  1  0  0 -1  0  0  0 -1  1]\n",
            " [ 0  0  1  0  0  0  1  0  0  0  0  0  0 -1  0  0  1  0  0  0]\n",
            " [ 1  0  0  1  0 -1 -1  0  0  1  0  0  1  0 -1  0  1  0  0  0]\n",
            " [ 0  0  0  0  0  0  0  0  1  0  0  0  1  0  1  0  0  0  1  0]\n",
            " [-1  0  0  0  1  0 -1  0 -1  0  1  0  0  0  0  0  0 -1  0  1]\n",
            " [ 0  0  1  0  0 -1  0  0  1  0  1  1  0 -1  0  0  0 -1  0  0]\n",
            " [ 0 -1  0  1  0  0  0  0  0  0 -1  0  0  0  1  0 -1  0  1  1]\n",
            " [ 0  0  0  0  0  0 -1  0 -1  0  0  0  0  0  1  0  0  0  0  0]\n",
            " [ 1  0 -1  1  0  0  1  0  0 -1  0 -1  0  1  0  0  0  0 -1  0]\n",
            " [ 0  0  0  0  0  1  0  0 -1  0  0  0  0  0  0  0  0  0 -1  0]\n",
            " [ 0  0  1  0  0  0  0  1  0 -1  0  1  0  1  1  0  0  0  0  0]\n",
            " [ 1  0  0  0  0  0  0  1  0  0  0  0  0  0  1  0 -1 -1  0  0]\n",
            " [ 0  0  0  0  0  0  0  0  0 -1  1  0 -1  0  0  0  0  0  0  1]\n",
            " [ 0  0  2 -1  0  1  0  1  0  0  0  1 -1  0 -1  0 -1 -1 -1  0]\n",
            " [ 0  0  0  0  0  0  0  0  0  0  0  0  0  0  0  0  0  0  0  0]\n",
            " [-1  0  0  1  0 -1  0  1  0 -1  0  0  0  0  1  1  0  0  0  0]]\n",
            "Alien moves from f(0, 14) to (0, 15)\n",
            "GOAL FAILED\n",
            "Alien meet bot at (0, 15)\n",
            "[(3, 18), (3, 18), (3, 19), (2, 19), (1, 19), (0, 19), (0, 18), (0, 17), (0, 16)]\n",
            "no of steps taken = 9\n"
          ]
        }
      ]
    },
    {
      "cell_type": "code",
      "source": [],
      "metadata": {
        "id": "Gd09q_kqxsNM"
      },
      "execution_count": null,
      "outputs": []
    }
  ]
}